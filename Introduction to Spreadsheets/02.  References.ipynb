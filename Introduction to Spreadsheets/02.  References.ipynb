{
 "cells": [
  {
   "cell_type": "markdown",
   "metadata": {},
   "source": [
    "- Change the value in D2 to a formula with only a cell reference to C2. Remember to start the formula with =.\n",
    "- Change the value in E2 to a formula with only a cell reference to D2. Again, remember to prepend the value by a =.\n",
    "- Now change C2 to 100. Do you see what happens to D2 and E2?"
   ]
  },
  {
   "cell_type": "markdown",
   "metadata": {},
   "source": [
    "```\n",
    "=C2\n",
    "\n",
    "=D2\n",
    "\n",
    "100\n",
    "```"
   ]
  },
  {
   "cell_type": "markdown",
   "metadata": {},
   "source": [
    "- In D2, change the value of the reference so the cell references to itself. You should see a #REF! error appear.\n",
    "- You'll see that E2 currently refers to C2, and C2 holds a value. Now replace the value in C2 by a reference to E2. This way C2 references E2, which references C2, and so on. What do you see?"
   ]
  },
  {
   "cell_type": "markdown",
   "metadata": {},
   "source": [
    "```\n",
    "=D2 // #REF!\n",
    "\n",
    "=E2 //  #REF!\n",
    "```"
   ]
  },
  {
   "cell_type": "markdown",
   "metadata": {},
   "source": [
    "- In D2, fill in a formula with only a reference to C2. Remember to start with a =.\n",
    "- Now use the trick shown above to copy this cell below until D11. In case you're not sure how: the animation might help you get on your way. You can copy the values all the way down to D11 in one go"
   ]
  },
  {
   "cell_type": "markdown",
   "metadata": {},
   "source": [
    "```\n",
    "=C2\n",
    "\n",
    "then Ctrl + Enter\n",
    "```"
   ]
  },
  {
   "cell_type": "markdown",
   "metadata": {},
   "source": [
    "- In D2, fill in a reference to B2. Remember to start the formula with a =.\n",
    "- In D3, fill in a reference to B3. Of course, feel free to use any tricks you've learned before.\n",
    "- Copy D2 to E2 by dragging the cell to the right.\n",
    "- Next, copy D3 to E3 by dragging the cell to the right. Click on E3 to check what's filled in automatically."
   ]
  },
  {
   "cell_type": "markdown",
   "metadata": {},
   "source": [
    "```\n",
    "=B2\n",
    "\n",
    "then,\n",
    "drag to expand the formula to other cell\n",
    "```"
   ]
  },
  {
   "cell_type": "markdown",
   "metadata": {},
   "source": [
    "- Start by filling in a reference to B2 in D2. Make sure to start the formula with a =.\n",
    "- Copy D2 down to D11 vertically by dragging it downwards.\n",
    "- Make sure D2:D11 is selected, copy this column one to the right to E2:E11. Have a look at the values in the new range."
   ]
  },
  {
   "cell_type": "markdown",
   "metadata": {},
   "source": [
    "```\n",
    "=B2\n",
    "\n",
    "then, Ctrl + Enter\n",
    "then, Ctrl + Down arrow\n",
    "then Ctrl + Shift + Up arrow\n",
    "then, Ctrl + C\n",
    "then, Shift + Right Arrow\n",
    "Then, Ctrl + V\n",
    "```"
   ]
  },
  {
   "cell_type": "markdown",
   "metadata": {},
   "source": [
    "- Fill in the land area of China in miles in D2. To convert square kilometers to square miles, divide the values by 2.59. Use a reference to C2.\n",
    "- Use the copying technique you learned in the previous exercises to fill down the square miles in D2:D11."
   ]
  },
  {
   "cell_type": "markdown",
   "metadata": {},
   "source": [
    "```\n",
    "=C2/2.59\n",
    "```"
   ]
  },
  {
   "cell_type": "markdown",
   "metadata": {},
   "source": [
    "- In D2:D11, fill in the growth of the population in the past year. You can assume that in each country, the population grew by 1.12% - which is the global growth rate. Use those copy skills to speed up the process.\n",
    "- In E2:E11, fill in the population density of each country. You find the density by dividing the population numbers in column B by the land area."
   ]
  },
  {
   "cell_type": "markdown",
   "metadata": {},
   "source": [
    "```\n",
    "=B2*1.12%\n",
    "\n",
    "=B2/C2\n",
    "```"
   ]
  },
  {
   "cell_type": "markdown",
   "metadata": {},
   "source": [
    "- In F2:F11, fill in a column which is TRUE each time the density is bigger than the world average and FALSE otherwise. The world average is 51.\n",
    "- In G2:G11, fill in a column which is TRUE each time the continent is equal to \"Asia\" and FALSE otherwise. To know whether something is equal to some text, you can use = ... = \"some text\", of course you need to fill in the .... Watch out, you need one = to start the formula and another in the middle to make the comparison."
   ]
  },
  {
   "cell_type": "markdown",
   "metadata": {},
   "source": [
    "```\n",
    "=E2>51\n",
    "\n",
    "=D2=\"Asia\"\n",
    "```"
   ]
  },
  {
   "cell_type": "markdown",
   "metadata": {},
   "source": [
    "- Fill in D2 with the relative population of China, compared to the world: = B2 / B12 * 100. We multiply by 100 to get a percentage. Now copy this by dragging towards D11. You'll see some #DIV/0! errors. Google Sheets tries to divide by zero, because you use references to empty cells.\n",
    "- Remove the values you just copied and change D2. Make B12 an absolute reference to that cell. Lock the row and the column.\n",
    "- Now fill D2:D11 up again by copying from D2."
   ]
  },
  {
   "cell_type": "markdown",
   "metadata": {},
   "source": [
    "```\n",
    "=B2 / $B$12 * 100\n",
    "```"
   ]
  },
  {
   "cell_type": "markdown",
   "metadata": {},
   "source": [
    "- Fill in E2:E11, the area relative to the world land area as percentage. Try to do this first by selecting column D2:D11, and copying it one column to the right by dragging from the lower right corner.\n",
    "- Apparently, the values can't just be copied. You can solve this by locking only the row in D2 and copy that to D11. Then copy D2:D11 to column E again."
   ]
  },
  {
   "cell_type": "markdown",
   "metadata": {},
   "source": [
    "```\n",
    "=C2/$C$12 * 100\n",
    "```"
   ]
  },
  {
   "cell_type": "markdown",
   "metadata": {},
   "source": [
    "- Fill in F2:F11, the population density per square mile. Try to do this first by selecting column E2:E11, and copying it one column to the right by dragging from the lower right corner.\n",
    "- Again, copying these values doesn't give the expected values. You can solve this by locking only the population column (B) in E2:E11 and repeating the copying process. Try this now!"
   ]
  },
  {
   "cell_type": "markdown",
   "metadata": {},
   "source": [
    "```\n",
    "= B3 / $D3\n",
    "```"
   ]
  },
  {
   "cell_type": "markdown",
   "metadata": {},
   "source": [
    "- Fill in D2:D12 with the amount by which the population will grow. Use the growth index in B14.\n",
    "- Fill in the population density in E2:E12. This is the population per square kilometer.\n",
    "- Fill in the density growth in F2:F12, which is the growth per square kilometer.\n",
    "- Change the growth to 2.00% and watch the changes ripple through."
   ]
  },
  {
   "cell_type": "markdown",
   "metadata": {},
   "source": [
    "```\n",
    "=B2*$B$14\n",
    "\n",
    "=B2/C2\n",
    "\n",
    "=D2/C2\n",
    "\n",
    "2.00%\n",
    "```"
   ]
  }
 ],
 "metadata": {
  "language_info": {
   "name": "python"
  },
  "orig_nbformat": 4
 },
 "nbformat": 4,
 "nbformat_minor": 2
}
