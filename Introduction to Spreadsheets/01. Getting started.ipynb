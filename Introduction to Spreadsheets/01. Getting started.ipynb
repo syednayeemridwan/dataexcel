{
 "cells": [
  {
   "cell_type": "markdown",
   "metadata": {},
   "source": [
    "Use formulas to change the following cells. Remember to start all of these formulas with a = sign, and follow it by what you want to calculate:\n",
    "\n",
    "- In B2, add 29 to 121. You should use the + operator.\n",
    "- In B3, subtract 25 from 125. You should use the - operator.\n",
    "- In B4, multiply 65 by 3. You should use the * operator.\n",
    "- In B5, divide 190 by 2. You should use the / operator."
   ]
  },
  {
   "cell_type": "markdown",
   "metadata": {},
   "source": [
    "```\n",
    "=121+29\n",
    "\n",
    "=125-25\n",
    "\n",
    "=65*3\n",
    "\n",
    "=190/2\n",
    "```"
   ]
  },
  {
   "cell_type": "markdown",
   "metadata": {},
   "source": [
    "- In B2, change 121 with 11 to the power 2. You should use the ^ operator.\n",
    "- In B3, change 125 with 1.25 times 10 to the power 2. You should combine the * and the ^ operator here.\n",
    "- In B4, change 65 with 7 plus 2 to the power 2, and from this value subtract 16. Think about where to use parentheses, the result should be 65"
   ]
  },
  {
   "cell_type": "markdown",
   "metadata": {},
   "source": [
    "```\n",
    "=11^2\n",
    "\n",
    "=1.25* 10^2\n",
    "\n",
    "=(7+2)^2 - 16\n",
    "```"
   ]
  },
  {
   "cell_type": "markdown",
   "metadata": {},
   "source": [
    "- Calculate a new column with the sales tax on the prices in the list. In F2:F5, on each row fill in the tax on the price of the item. Use a formula with * and a percentage: 21%. Don't worry about the $ sign just yet, we'll talk about that a bit more later in this chapter.\n",
    "- Now that you calculated the sales tax on the price, add another column to calculate the total price. This is the sum of the price and the sales tax. Fill in the values in G2:G5."
   ]
  },
  {
   "cell_type": "markdown",
   "metadata": {},
   "source": [
    "```\n",
    "=E2*21%\n",
    "\n",
    "=E2+F2\n",
    "```"
   ]
  },
  {
   "cell_type": "markdown",
   "metadata": {},
   "source": [
    "- First of all, you need to find out which items are cheap. You can say items are cheap when they cost less than 1 dollar. Use < to fill in F2:F5, for each item check whether the price is smaller than 1. You can omit $ in your formulas for now.\n",
    "- Second, add the values for the column named Energy dense. You can say an item is energy dense if the KCal per gram is greater than or equal to 3. Fill the results in in G2:G5."
   ]
  },
  {
   "cell_type": "markdown",
   "metadata": {},
   "source": [
    "```\n",
    "=E2<1\n",
    "\n",
    "=C2/B2>=3\n",
    "```"
   ]
  },
  {
   "cell_type": "markdown",
   "metadata": {},
   "source": [
    "- Let's do something silly! In A2 change the value by a formula, starting with = as always. Now write \"Eggs\", those quotes are important. Then add 1 to it using the + operator. The cell will contain a #VALUE! error, meaning the value could not be calculated. Hover over the cell to see the details. Does this error seem fair?\n",
    "- Fill in '= 0.40 * 21% in F2, mind the ' in front. Spaces are important here. By using the single quote, you ensure the formula will not be calculated."
   ]
  },
  {
   "cell_type": "markdown",
   "metadata": {},
   "source": [
    "```\n",
    "=\"Eggs\" + 1 // #VALUE!\n",
    "\n",
    "'= 0.40 * 21% // '= 0.40 * 21%\n",
    "```"
   ]
  },
  {
   "cell_type": "markdown",
   "metadata": {},
   "source": [
    "- Select the values in D2:D5. These currently have type date. Using the format menu, change the format to use / instead of - to separate the date parts. Use the 'More date and time formats…' option in 'Format > Number > More formats'.\n",
    "- Select the values in E2:E5. They currently have type currency, using the dollar $ sign. Change the format of these values to currency (rounded) You can use the format menu, or any other shortcuts you'd like."
   ]
  },
  {
   "cell_type": "markdown",
   "metadata": {},
   "source": [
    "- In F2, fill in the value true. It shouldn't be a formula, so don't prepend the value by =. If you've used lower case letters (true), watch as Google Sheets replaces the value by the capitalized TRUE once you hit enter.\n",
    "- Recall the comparison operators? You can use logicals in some of these as well. In F3, check whether TRUE is not equal to FALSE. It's a formula, so prepend it by =. You'll have to use the <> operator."
   ]
  },
  {
   "cell_type": "markdown",
   "metadata": {},
   "source": [
    "```\n",
    "true // TRUE\n",
    "\n",
    "=F2<>FALSE\n",
    "```"
   ]
  }
 ],
 "metadata": {
  "language_info": {
   "name": "python"
  },
  "orig_nbformat": 4
 },
 "nbformat": 4,
 "nbformat_minor": 2
}
