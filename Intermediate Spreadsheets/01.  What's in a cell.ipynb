{
 "cells": [
  {
   "cell_type": "markdown",
   "metadata": {},
   "source": [
    "- Check the data types of the first row of sprint data. In cell A21, there is a formula to check if the value in A2 is numeric.\n",
    "- \n",
    "- Copy the formula right as far as G21 by dragging the bottom-right corner of A21.\n",
    "- In cells A22 to G22, check if the values in cells A2 to G2 are text by writing formulas that call ISTEXT().\n",
    "- In A23 to G23, use ISDATE() to check if A2 to G2 are dates.\n",
    "- In A24 to G24, use ISLOGICAL() to check if A2 to G2 are logicals."
   ]
  },
  {
   "cell_type": "markdown",
   "metadata": {},
   "source": [
    "```\n",
    "Ctrl + C\n",
    "then, Ctrl+Shift+Left arrow\n",
    "then, Ctrl + V\n",
    "\n",
    "=ISTEXT(A2)\n",
    "\n",
    "=ISDATE(A2)\n",
    "\n",
    "=ISLOGICAL(A2)\n",
    "```"
   ]
  },
  {
   "cell_type": "markdown",
   "metadata": {},
   "source": [
    "- The column \"Olympic team site\" contains a URL to the Olympic team for the athlete's nation. In cell I2, there is a formula to create a hyperlink to the USA site.\n",
    "- \n",
    "- Copy the formula in I2 down as far as I20.\n",
    "- In cell A21, use =ISURL(A2) to check if this is a URL.\n",
    "- Copy this formula right as far as I21.\n",
    "- On row 22, use =ISFORMULA() to check if the cells from A2 to I2 contain formulas."
   ]
  },
  {
   "cell_type": "markdown",
   "metadata": {},
   "source": [
    "```\n",
    "=HYPERLINK(H20, D20)\n",
    "\n",
    "=ISURL(A2)\n",
    "\n",
    "=ISFORMULA(A2)\n",
    "\n",
    "```"
   ]
  },
  {
   "cell_type": "markdown",
   "metadata": {},
   "source": [
    "- Some athletes have gone missing! An extra column, \"Athlete Is Blank?\" has been added to the dataset.\n",
    "- \n",
    "- Use the ISBLANK() function in column H to determine which values in the dataset have missing athletes.\n",
    "- In cell A23, call FILTER() to filter the dataset to show only the rows with missing athletes.\n",
    "- Pass the range of all the data from A2 to H20 as the first argument.\n",
    "- The 2nd argument should be the logical values contained in H2 to H20."
   ]
  },
  {
   "cell_type": "markdown",
   "metadata": {},
   "source": [
    "```\n",
    "=ISBLANK(C2)\n",
    "\n",
    "=FILTER(A2:H20,H2:H20)\n",
    "```"
   ]
  },
  {
   "cell_type": "markdown",
   "metadata": {},
   "source": [
    "- In cell H2, check if the corresponding Date really is a date.\n",
    "- Copy the formula down the column."
   ]
  },
  {
   "cell_type": "markdown",
   "metadata": {},
   "source": [
    "```\n",
    "=ISDATE(F2)\n",
    "```"
   ]
  },
  {
   "cell_type": "markdown",
   "metadata": {},
   "source": [
    "- In H2, call ISNUMBER() to check if cell B2 is a number.\n",
    "- Copy the formula down to H20.\n",
    "- In column I, use N() to convert the values from column B to numbers.\n",
    "- In column J, use ISNUMBER() to confirm that column I contains only numbers."
   ]
  },
  {
   "cell_type": "markdown",
   "metadata": {},
   "source": [
    "```\n",
    "=ISNUMBER(B2)\n",
    "\n",
    "=N(B2)\n",
    "\n",
    "=ISNUMBER(I2)\n",
    "```"
   ]
  },
  {
   "cell_type": "markdown",
   "metadata": {},
   "source": [
    " The `T()` function is the equivalent for converting to text."
   ]
  },
  {
   "cell_type": "markdown",
   "metadata": {},
   "source": [
    "- In H2, calculate the time for this record (A2) divided by the fastest time (A20); the latter written in absolute form.\n",
    "- Copy the formula down to row 20.\n",
    "- In column I, convert the ratios to percentages using TO_PERCENT()."
   ]
  },
  {
   "cell_type": "markdown",
   "metadata": {},
   "source": [
    "```\n",
    "=A2/$a$20\n",
    "\n",
    "=TO_PERCENT(H2)\n",
    "```"
   ]
  },
  {
   "cell_type": "markdown",
   "metadata": {},
   "source": [
    "- Count the number of records by cheating sprinters.\n",
    "- \n",
    "- In column H, convert the logical values in column G to ones and zeroes.\n",
    "- In H22, count the number of cheats by calculating the SUM() of H2 to H20.\n",
    "- In H23, count the proportion of cheats by calculating the AVERAGE() of H2 to H20."
   ]
  },
  {
   "cell_type": "markdown",
   "metadata": {},
   "source": [
    "```\n",
    "=N(G2)\n",
    "\n",
    "=SUM(H2:H20)\n",
    "\n",
    "=AVERAGE(H2:H20)\n",
    "```"
   ]
  },
  {
   "cell_type": "markdown",
   "metadata": {},
   "source": [
    "- In column H, convert the times in column A from seconds to minutes.\n",
    "- In column I, convert the wind speeds in column B from meters per second to miles per hour."
   ]
  },
  {
   "cell_type": "markdown",
   "metadata": {},
   "source": [
    "```\n",
    "=CONVERT(A2, \"sec\", \"min\")\n",
    "\n",
    "=CONVERT(B2,\"m/s\",\"mph\")\n",
    "```"
   ]
  }
 ],
 "metadata": {
  "language_info": {
   "name": "python"
  },
  "orig_nbformat": 4
 },
 "nbformat": 4,
 "nbformat_minor": 2
}
