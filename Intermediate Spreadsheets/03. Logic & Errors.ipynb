{
 "cells": [
  {
   "cell_type": "markdown",
   "metadata": {},
   "source": [
    "- In column H, negate the \"Is non-white?\" column to find women who are white.\n",
    "- In cell A28, define a filter on the whole dataset from A2 to H25, using the values in column H as the condition to filter on."
   ]
  },
  {
   "cell_type": "markdown",
   "metadata": {},
   "source": [
    "```\n",
    "=NOT(A2)\n",
    "\n",
    "=FILTER(A2:H25,H2:H25)\n",
    "```"
   ]
  },
  {
   "cell_type": "markdown",
   "metadata": {},
   "source": [
    "- In column H, find the women who are married and have kids, but not young kids.\n",
    "- In cell A28, define a filter to return only the rows where column H is TRUE."
   ]
  },
  {
   "cell_type": "markdown",
   "metadata": {},
   "source": [
    "```\n",
    "=AND(C2,D2,NOT(E2))\n",
    "\n",
    "=FILTER(A2:H25,H2:H25)\n",
    "```"
   ]
  },
  {
   "cell_type": "markdown",
   "metadata": {},
   "source": [
    "- In column H, find women who are white or have over 12 years of school\n",
    "- In column I, find women who match the previous condition and get unemployment insurance benefits.\n",
    "- In cell A28, define a filter to return only the rows that match conditions in column I."
   ]
  },
  {
   "cell_type": "markdown",
   "metadata": {},
   "source": [
    "```\n",
    "=OR(NOT(A2),B2)\n",
    "\n",
    "=AND(G2,H2)\n",
    "\n",
    "=FILTER(A2:I25,I2:I25)\n",
    "```"
   ]
  },
  {
   "cell_type": "markdown",
   "metadata": {},
   "source": [
    "- In column H, if the woman is married and has kids, set the value to \"married with kids\"; otherwise set the value \"other\"."
   ]
  },
  {
   "cell_type": "markdown",
   "metadata": {},
   "source": [
    "```\n",
    "=IF(AND(C2,D2),\"married with kids\",\"other\")\n",
    "```"
   ]
  },
  {
   "cell_type": "markdown",
   "metadata": {},
   "source": [
    "- In column H, pass six arguments to IFS() to calculate the status of kids in each row. If the woman\n",
    "- has young kids, return \"young\".\n",
    "- has no kids, return \"none\".\n",
    "- has kids and does not have young kids, return \"old\"."
   ]
  },
  {
   "cell_type": "markdown",
   "metadata": {},
   "source": [
    "```\n",
    "=IFS(E2,\"young\",NOT(D2),\"none\",AND(D2,NOT(E2)),\"old\")\n",
    "```"
   ]
  },
  {
   "cell_type": "markdown",
   "metadata": {},
   "source": [
    "- In cell J2, call SWITCH() to return 1 when Kids status is \"none\", 2 when Kids status is \"young\", and 3 when Kids status is \"old\"."
   ]
  },
  {
   "cell_type": "markdown",
   "metadata": {},
   "source": [
    "```\n",
    "=SWITCH(H2:H25,\"none\",1,\"young\",2,\"old\",3)\n",
    "```"
   ]
  },
  {
   "cell_type": "markdown",
   "metadata": {},
   "source": [
    "- In column H, determine which cells in column G are blank.\n",
    "- In cell G26, calculate the count of blank cells in column G of the dataset."
   ]
  },
  {
   "cell_type": "markdown",
   "metadata": {},
   "source": [
    "```\n",
    "=ISBLANK(G2)\n",
    "\n",
    "=COUNTBLANK(G2:G25)\n",
    "```"
   ]
  },
  {
   "cell_type": "markdown",
   "metadata": {},
   "source": [
    "- In column H, use AND() to find women who have kids and get benefits.\n",
    "- In column I, convert the blanks in column G to missing values.\n",
    "- In column J, again find women who have kids and get benefits, this time using column I rather than G."
   ]
  },
  {
   "cell_type": "markdown",
   "metadata": {},
   "source": [
    "```\n",
    "=AND(D2,G2)\n",
    "\n",
    "=IF(ISBLANK(G2),NA(),G2)\n",
    "\n",
    "=AND(D2,I2)\n",
    "```"
   ]
  },
  {
   "cell_type": "markdown",
   "metadata": {},
   "source": [
    "- In column H, apply ISERROR() to column F.\n",
    "- In column I, apply ISERROR() to column G.\n",
    "- In column J, apply ISERR() to column G."
   ]
  },
  {
   "cell_type": "markdown",
   "metadata": {},
   "source": [
    "```\n",
    "=ISERROR(F2)\n",
    "\n",
    "=ISERROR(G2)\n",
    "\n",
    "=ISERR(G2)\n",
    "```"
   ]
  },
  {
   "cell_type": "markdown",
   "metadata": {},
   "source": [
    "What errors will these formulas generate?\n",
    "```\n",
    "=1 / 0\n",
    "=SQRT(-1)\n",
    "=Z1 = value\n",
    "=1 + \" \"\n",
    "=SUM(0 1)\n",
    "```"
   ]
  },
  {
   "cell_type": "markdown",
   "metadata": {},
   "source": [
    "- `#DIV/0!, #NUM!, #NAME?, #VALUE!, #ERROR!`"
   ]
  }
 ],
 "metadata": {
  "language_info": {
   "name": "python"
  },
  "orig_nbformat": 4
 },
 "nbformat": 4,
 "nbformat_minor": 2
}
