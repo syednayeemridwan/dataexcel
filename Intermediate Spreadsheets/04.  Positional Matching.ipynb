{
 "cells": [
  {
   "cell_type": "markdown",
   "metadata": {},
   "source": [
    "- In column H, get the row numbers of the Locality column.\n",
    "- In column I, get the column numbers of that column.\n",
    "- In column J, convert columns H and I back to addresses in $A$1 absolute format.\n",
    "- In column K, convert columns H and I back to addresses in A1 relative format."
   ]
  },
  {
   "cell_type": "markdown",
   "metadata": {},
   "source": [
    "```\n",
    "=ROW(B2)\n",
    "\n",
    "=COLUMN(B2)\n",
    "\n",
    "=ADDRESS(H2,I2)\n",
    "\n",
    "=ADDRESS(H2,I2,4)\n",
    "```"
   ]
  },
  {
   "cell_type": "markdown",
   "metadata": {},
   "source": [
    "- In column I, pass the addresses from column H to INDIRECT() to retrieve the number of Brush-footeds."
   ]
  },
  {
   "cell_type": "markdown",
   "metadata": {},
   "source": [
    "```\n",
    "=INDIRECT(H2)\n",
    "```"
   ]
  },
  {
   "cell_type": "markdown",
   "metadata": {},
   "source": [
    "- In cell I1, get the count of Skippers in the Indian Subcontinent as the value from the cell offset 1 down from C1.\n",
    "- In cell I2, again get the count of Skippers in the Indian Subcontinent, this time as the value from the cell offset 2 right from A2.\n",
    "- In cell I3, get the count of Skippers in Western Himalaya as the values from the range of cells offset 2 right from A3, with height 7, and sum them."
   ]
  },
  {
   "cell_type": "markdown",
   "metadata": {},
   "source": [
    "```\n",
    "=OFFSET(C1,1,0)\n",
    "\n",
    "=OFFSET(A2,0,2)\n",
    "\n",
    "=SUM(OFFSET(A3,0,2,7))\n",
    "```"
   ]
  },
  {
   "cell_type": "markdown",
   "metadata": {},
   "source": [
    "Use the block of data for North East India + North Myanmar, from A11 to G19 as the reference.\n",
    "\n",
    "- In cell I1, use INDEX() to get the number of Blues in Sikkim.\n",
    "- In cell I2, get the number of White-yellows in Mizoram Hills."
   ]
  },
  {
   "cell_type": "markdown",
   "metadata": {},
   "source": [
    "```\n",
    "=INDEX(A11:G19,3,6)\n",
    "\n",
    "=INDEX(A11:G19,9,5)\n",
    "```"
   ]
  },
  {
   "cell_type": "markdown",
   "metadata": {},
   "source": [
    "Find the same values from the INDEX() exercise, now using VLOOKUP(). Your data range is from $B$11 to $G$19.\n",
    "\n",
    "- In cell I1, get the number of Blues in Sikkim. Call VLOOKUP(), passing \"Sikkim\", the data range, an offset of 5, and FALSE.\n",
    "- In cell I2, get the number of White-Yellows in Mizoram Hills."
   ]
  },
  {
   "cell_type": "markdown",
   "metadata": {},
   "source": [
    "```\n",
    "=VLOOKUP(B13,$B$11:$G$19,5,FALSE)\n",
    "\n",
    "=VLOOKUP(B19,$B$11:$G$19,4,FALSE)\n",
    "```"
   ]
  },
  {
   "cell_type": "markdown",
   "metadata": {},
   "source": [
    "- In cell I2, write a command to sort the butterfly dataset by decreasing number of Skippers."
   ]
  },
  {
   "cell_type": "markdown",
   "metadata": {},
   "source": [
    "```\n",
    "=SORT($A$2:$G$45,3,FALSE)\n",
    "```"
   ]
  },
  {
   "cell_type": "markdown",
   "metadata": {},
   "source": [
    "- In cell I1, MATCH() the position of the smallest number of Skippers greater than or equal to 100. The data range is C2 to C45.\n",
    "- In cell I2, get the ADDRESS() of that cell. The row is the match position plus one (for the header row), and it's the third column.\n",
    "- In cell I3, get the value in that cell to find the smallest number of Skippers greater than 100."
   ]
  },
  {
   "cell_type": "markdown",
   "metadata": {},
   "source": [
    "```\n",
    "=MATCH(100,C2:C45,-1)\n",
    "\n",
    "=ADDRESS(I1+1,3)\n",
    "\n",
    "=INDIRECT(I2)\n",
    "```"
   ]
  },
  {
   "cell_type": "markdown",
   "metadata": {},
   "source": [
    "- In column H, define a logical condition where the count of each butterfly type is greater than 50.\n",
    "- In cell I2, define a filter on the whole dataset (columns A to G), using the logical condition in column H."
   ]
  },
  {
   "cell_type": "markdown",
   "metadata": {},
   "source": [
    "```\n",
    "=AND(C2>50,D2>50,E2>50,F2>50,G2>50)\n",
    "\n",
    "=FILTER(A2:G45,H2:H45)\n",
    "```"
   ]
  },
  {
   "cell_type": "markdown",
   "metadata": {},
   "source": [
    "- In cell H2, get the unique Area values using UNIQUE().\n",
    "- In column I, use COUNTIF() to get the count of each Area. Pass the data range from A2 to A45 as absolute addresses, and the filter criteria from H2 to H9.\n",
    "- In column J, use COUNTIFS() to get the count of each area with more than 20 Swallow-tails. the first two arguments are the same as the previous step, then add a condition for column D to be greater than 20."
   ]
  },
  {
   "cell_type": "markdown",
   "metadata": {},
   "source": [
    "```\n",
    "=UNIQUE(A2:A45)\n",
    "\n",
    "=COUNTIF($A$2:$A$45,H2:H9)\n",
    "\n",
    "=COUNTIFS($A$2:$A$45,H2:H9,$D$2:$D$45,\">20\")\n",
    "```"
   ]
  },
  {
   "cell_type": "markdown",
   "metadata": {},
   "source": [
    "- In cell J2, get the unique Areas.\n",
    "- In column K, rows 2 to 9, use AVERAGEIF() to calculate the average count of Brush-footeds by Area. Pass it the area data as absolute addresses, the unique areas, and the Brush-footed count data as absolute addresses.\n",
    "- In column H, join the average counts back to the original dataset. VLOOKUP() takes 4 arguments. It needs the Area from column A, the data range of the table you just created (J2 to K9) as absolute addresses, the column in the that table that contains the averages (2), and whether or not that table is sorted (FALSE).\n",
    "- In column I, IF() column G is blank, take the value from column H, else take the value from column G."
   ]
  },
  {
   "cell_type": "markdown",
   "metadata": {},
   "source": [
    "```\n",
    "=UNIQUE(A2:A45)\n",
    "\n",
    "=AVERAGEIF($A$2:$A$45,J2:J9,$G$2:$G$45)\n",
    "\n",
    "=VLOOKUP(A2,$J$2:$K$9,2,FALSE)\n",
    "```"
   ]
  }
 ],
 "metadata": {
  "language_info": {
   "name": "python"
  },
  "orig_nbformat": 4
 },
 "nbformat": 4,
 "nbformat_minor": 2
}
