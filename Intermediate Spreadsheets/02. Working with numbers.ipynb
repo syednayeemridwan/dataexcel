{
 "cells": [
  {
   "cell_type": "markdown",
   "metadata": {},
   "source": [
    "- In column H, rescale the nominal geocentric distance (\"distance from Earth\") in column C to astronomical units by dividing by the value in B14.\n",
    "- In column I, take a log 10 transformation of these numbers.\n",
    "- In column J, take the natural log of the numbers in column H."
   ]
  },
  {
   "cell_type": "markdown",
   "metadata": {},
   "source": [
    "```\n",
    "=C2/$B$14\n",
    "\n",
    "=LOG10(H2)\n",
    "\n",
    "=LN(H2)\n",
    "```"
   ]
  },
  {
   "cell_type": "markdown",
   "metadata": {},
   "source": [
    "- In column K, retrieve the nominal geocentric distance by calculating 10 to the power of the values in column I.\n",
    "- In column L, do the same by calculating the natural exponent of the values in column J."
   ]
  },
  {
   "cell_type": "markdown",
   "metadata": {},
   "source": [
    "```\n",
    "=10^I2\n",
    "\n",
    "=EXP(J2)\n",
    "```"
   ]
  },
  {
   "cell_type": "markdown",
   "metadata": {},
   "source": [
    "- In column H, calculate the semi-major axis as the aphelion (column F) plus perihelion (column G), all divided by two.\n",
    "- In column I, calculate the semi-minor axis as the square-root of the product of the aphelion and the perihelion.\n",
    "- In column J, calculate the area as pi times the semi-major axis (column H) times the semi-minor axis (column I)."
   ]
  },
  {
   "cell_type": "markdown",
   "metadata": {},
   "source": [
    "```\n",
    "=(F2+G2)/2\n",
    "\n",
    "=SQRT(F2*G2)\n",
    "\n",
    "=PI()*H2*I2\n",
    "```"
   ]
  },
  {
   "cell_type": "markdown",
   "metadata": {},
   "source": [
    "ou can also do trigonometric transformations like sine, using `=SIN()`."
   ]
  },
  {
   "cell_type": "markdown",
   "metadata": {},
   "source": [
    "- In column H, round the aphelion to the nearest whole number.\n",
    "- In column I, round the perihelion to one decimal place (to the nearest tenth)\n",
    "- In column J, round the upper bound of the size to the nearest hundred."
   ]
  },
  {
   "cell_type": "markdown",
   "metadata": {},
   "source": [
    "```\n",
    "=ROUND(F2)\n",
    "\n",
    "=ROUND(G2,1)\n",
    "\n",
    "=ROUND(E2,-2)\n",
    "```"
   ]
  },
  {
   "cell_type": "markdown",
   "metadata": {},
   "source": [
    "- In column H, round the aphelion down to the nearest whole number.\n",
    "- In column I, round the perihelion up to the next tenth."
   ]
  },
  {
   "cell_type": "markdown",
   "metadata": {},
   "source": [
    "```\n",
    "=FLOOR(F2)\n",
    "\n",
    "=CEILING(G2,.10)\n",
    "```"
   ]
  },
  {
   "cell_type": "markdown",
   "metadata": {},
   "source": [
    "- In column H, take the perihelion and subtract the aphelion (column G minus column F) to create some negative numbers.\n",
    "- In column I, use FLOOR.MATH() to round those differences to the next hundredth (0.01) towards zero.\n",
    "- In column J, use CEILING.MATH() to round those differences to the next tenth (0.1) away from zero."
   ]
  },
  {
   "cell_type": "markdown",
   "metadata": {},
   "source": [
    "```\n",
    "=G2-F2\n",
    "\n",
    "=FLOOR.MATH(H2,0.01,1)\n",
    "\n",
    "=CEILING.MATH(H2,0.1,-1)\n",
    "```"
   ]
  },
  {
   "cell_type": "markdown",
   "metadata": {},
   "source": [
    "- In column H, rows 2 to 12, generate uniform random numbers between 0 and 1.\n",
    "- In column I, generate uniform random numbers between the lower size estimate and the upper size estimate."
   ]
  },
  {
   "cell_type": "markdown",
   "metadata": {},
   "source": [
    "```\n",
    "=RAND()\n",
    "\n",
    "=RANDBETWEEN(D2,E2)\n",
    "```"
   ]
  },
  {
   "cell_type": "markdown",
   "metadata": {},
   "source": [
    "- In column H, generate normally distributed random geocentric distances with the mean taken from column C and a standard deviation of 1000.\n",
    "- In column I, generate beta distributed random asteroid sizes.\n",
    "- Call BETAINV(), passing RAND() as the first argument.\n",
    "- Set the second and third \"shape\" arguments to 2.\n",
    "- Set the fourth and fifth \"bound\" arguments to the asteroid lower and upper size estimates."
   ]
  },
  {
   "cell_type": "markdown",
   "metadata": {},
   "source": [
    "```\n",
    "=NORMINV(RAND(),C2,1000)\n",
    "\n",
    "=BETAINV(RAND(),2,2,D2,E2)\n",
    "```"
   ]
  }
 ],
 "metadata": {
  "language_info": {
   "name": "python"
  },
  "orig_nbformat": 4
 },
 "nbformat": 4,
 "nbformat_minor": 2
}
