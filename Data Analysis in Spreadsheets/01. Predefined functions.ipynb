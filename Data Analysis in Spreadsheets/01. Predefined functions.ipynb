{
 "cells": [
  {
   "cell_type": "markdown",
   "metadata": {},
   "source": [
    "- In C2, fill in a formula that rounds the value in B2 to the nearest integer. Don't forget to start the formula with a =. You should use the ROUND function discussed before, and pass it the reference as an argument.\n",
    "- Copy the value of C2 down to C13. You can do so by dragging your mouse from the lower right corner of C2 to C13. The values in C2:C13 should all be filled in and contain the rounded values of B2:B13."
   ]
  },
  {
   "cell_type": "markdown",
   "metadata": {},
   "source": [
    "```\n",
    "=ROUND(B2)\n",
    "```"
   ]
  },
  {
   "cell_type": "markdown",
   "metadata": {},
   "source": [
    "- In C2:C13, fill in the SQRT of the values in B. You can start with C2 and copy the values downward.\n",
    "- In D2:D13, fill in the rounded values of C.\n",
    "- Note that you needed 2 columns to find the rounded square root. In E2:E13, fill in the rounded square root of the values in B, by using function composition. This way you only use 1 column. The values should be the same as in D2:D12."
   ]
  },
  {
   "cell_type": "markdown",
   "metadata": {},
   "source": [
    "```\n",
    "=SQRT(B2)\n",
    "then Ctrl + Enter to Autofill\n",
    "\n",
    "=ROUND(C2)\n",
    "then Ctrl + Enter to Autofill\n",
    "\n",
    "=ROUND(SQRT(B2))\n",
    "then Ctrl + Enter to Autofill\n",
    "```"
   ]
  },
  {
   "cell_type": "markdown",
   "metadata": {},
   "source": [
    "- In B15, calculate the minimum value in B2:B13. Use the MIN function, which can be used with ranges. Don't forget to start your formula with =.\n",
    "- In B16, calculate the maximum value in B2:B13. Use the MAX function, which also accepts ranges as arguments."
   ]
  },
  {
   "cell_type": "markdown",
   "metadata": {},
   "source": [
    "```\n",
    "=MIN(B2:B13)\n",
    "\n",
    "=MAX(B2:B13)\n",
    "```"
   ]
  },
  {
   "cell_type": "markdown",
   "metadata": {},
   "source": [
    "- Use SUM in B17 to calculate the sum of the values in B2:B13. Using the trick illustrated above will speed up the process.\n",
    "- Use AVERAGE in B18 to calculate the average of the values in B2:B13.\n",
    "- Use MEDIAN in B19 to calculate the median of the values in B2:B13."
   ]
  },
  {
   "cell_type": "markdown",
   "metadata": {},
   "source": [
    "```\n",
    "=SUM(B2:B13)\n",
    "\n",
    "=AVERAGE(B2:B13)\n",
    "\n",
    "=MEDIAN(B2:B13)\n",
    "```"
   ]
  },
  {
   "cell_type": "markdown",
   "metadata": {},
   "source": [
    "- In C2, find out the rank of B2 in the following range: B2:B13.\n",
    "- Make B2:B13 an absolute reference in C2. You can do this by hand, or by selecting the range and hitting F4.\n",
    "- Copy the value of C2 down to C13 to get the ranks of all sales. This will only work if you followed the second instruction correctly."
   ]
  },
  {
   "cell_type": "markdown",
   "metadata": {},
   "source": [
    "```\n",
    "=RANK(B13,$B$2:$B$13)\n",
    "\n",
    "copy this, Ctrl + Down arrow to reach the end of the column, Ctrl+Shift+Up arro to select all column values + Ctrl + V to paste formula in every cell\n",
    "```"
   ]
  },
  {
   "cell_type": "markdown",
   "metadata": {},
   "source": [
    "- In C2, fill in the rank of B2 in B2:B13, considered in an ascending order. Don't forget to use an absolute reference as you did in the previous exercise!\n",
    "- Copy the value of C2 until C13.\n",
    "- Fill in D2:D13, checking whether the rank in column C is smaller than or equal to 2, to find the worst 2 months. You can use the comparison operator: ... <= ... (fill in the dots).\n",
    "- Your output should contain TRUE or FALSE based on the comparison in each cell."
   ]
  },
  {
   "cell_type": "markdown",
   "metadata": {},
   "source": [
    "```\n",
    "=RANK(B2,$B$2:$B$13,1)\n",
    "\n",
    "=C2<=2\n",
    "```"
   ]
  },
  {
   "cell_type": "markdown",
   "metadata": {},
   "source": [
    "- You need to be able to identify each movie using a maximum of 4 characters, so you create a new column: movie id. In E2:E11, try to take the last 4 characters of the movies in A. Use RIGHT here. Does the result make a lot of sense?\n",
    "- In F2:F11, try to take the first 4 characters of the movies in A. Use LEFT here. This seems to make a bit more sense."
   ]
  },
  {
   "cell_type": "markdown",
   "metadata": {},
   "source": [
    "```\n",
    "=RIGHT(A2,4)\n",
    "\n",
    "=LEFT(A2,4)\n",
    "\n",
    "```"
   ]
  },
  {
   "cell_type": "markdown",
   "metadata": {},
   "source": [
    "- You are going to combine LEN and SEARCH to retrieve the surnames of the directors.\n",
    "- In E2:E11, find the number of characters in the directors' names using LEN.\n",
    "- In F2:F11, find the position of the space in the directors' names using SEARCH.\n",
    "- In G2:G11, find the number of characters in the directors' surnames by subtracting the values in F from the values in E.\n",
    "- In H2:H11, retrieve the directors' surnames using RIGHT and the number of characters in G."
   ]
  },
  {
   "cell_type": "markdown",
   "metadata": {},
   "source": [
    "```\n",
    "=LEN(C2)\n",
    "\n",
    "=SEARCH(\" \",C2)\n",
    "\n",
    "=E2-F2\n",
    "\n",
    "=RIGHT(C2,G2)\n",
    "```"
   ]
  },
  {
   "cell_type": "markdown",
   "metadata": {},
   "source": [
    "- In E, you can see a formula that selects the Last name of the director's name in C.\n",
    "- In F2:F11, fill in the first character of the first name of the directors. For example, F2 should contain R. Use LEFT to achieve this.\n",
    "- In G2:G11, the values should evaluate to the surname and the first character of the first name, with some punctuation. For example G2 should evaluate to Johnson R.. Use CONCATENATE to achieve this."
   ]
  },
  {
   "cell_type": "markdown",
   "metadata": {},
   "source": [
    "```\n",
    "=LEFT(C2,1)\n",
    "\n",
    "=CONCATENATE(E2,\" \", F2,\".\")\n",
    "```"
   ]
  },
  {
   "cell_type": "markdown",
   "metadata": {},
   "source": [
    "- WEEKDAY(date, [type]): evaluates to the day of the week of a date. type is 1, 2 or 3.\n",
    "  - type = 1: Sunday is day 1 and Saturday is day 7 (default)\n",
    "  - type = 2: Monday is day 1 and Sunday is day 7\n",
    "  - type = 3: Monday is day 0 and Sunday is day 6\n",
    "- From E2:E11, use WEEKDAY() to figure out the weekday of the release date in B2:B11.\n",
    "- Set type so that Monday would evaluate to 0.\n",
    "- The values in F2:F11 should be TRUE when the value in column E is a Wednesday, FALSE otherwise.\n",
    "- Use the comparison operator: = ... = ... (fill in the dots).\n",
    "- Use the information above to determine what number Wednesday evaluates to when using type = 2.\n",
    "- The values in G2:G11 should be TRUE when the value in column E is a Friday, FALSE otherwise. Use a similar approach to the previous step.\n"
   ]
  },
  {
   "cell_type": "markdown",
   "metadata": {},
   "source": [
    "```\n",
    "=WEEKDAY(B2:B11,3)\n",
    "\n",
    "=E2=2\n",
    "\n",
    "=E2=4\n",
    "```"
   ]
  },
  {
   "cell_type": "markdown",
   "metadata": {},
   "source": [
    "- In E2:E11, fill in how many days back the release of each movie took place. Use DATEDIF and NOW.\n",
    "- In F2:F11, fill in how many months back the release of each movie took place. Again, use DATEDIF and NOW, but now with slightly different arguments.\n",
    "- A third argument here is the unit, this can be:\n",
    "  - \"Y\": the number of years between two dates\n",
    "  - \"M\": the number of months between two dates\n",
    "  - \"D\": the number of days between two dates\n",
    "- look for documentation : https://support.google.com/docs/answer/6055612"
   ]
  },
  {
   "cell_type": "markdown",
   "metadata": {},
   "source": [
    "```\n",
    "=DATEDIF(B2,NOW(),\"D\")\n",
    "\n",
    "=DATEDIF(B2,NOW(),\"M\")\n",
    "```"
   ]
  },
  {
   "cell_type": "markdown",
   "metadata": {},
   "source": [
    "- Calculate the difference, in days, between the closing date and the release date in F2:F7. Use DATEDIF.\n",
    "- Calculate the total amount of days in F8.\n",
    "- Calculate the sum of all gross amounts made by the movies in D8.\n",
    "- In D9, divide the total gross by the total amount of days: the average amount of money a movie makes at the box office in one day."
   ]
  },
  {
   "cell_type": "markdown",
   "metadata": {},
   "source": [
    "```\n",
    "=DATEDIF(B2,E2,\"D\")\n",
    "\n",
    "=SUM(F2:F7)\n",
    "\n",
    "=SUM(D2:D7)\n",
    "\n",
    "=D8/F8\n",
    "```"
   ]
  }
 ],
 "metadata": {
  "language_info": {
   "name": "python"
  },
  "orig_nbformat": 4
 },
 "nbformat": 4,
 "nbformat_minor": 2
}
