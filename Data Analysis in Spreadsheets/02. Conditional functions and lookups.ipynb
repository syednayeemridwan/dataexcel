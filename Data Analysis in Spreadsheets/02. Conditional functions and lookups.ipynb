{
 "cells": [
  {
   "cell_type": "markdown",
   "metadata": {},
   "source": [
    "- In D10, fill in the hourly wage of this employee, which is $40.\n",
    "- In D11, fill in the weekend rate for this employee. It's equal to 200%, meaning the employee will make two times as much on the weekends. In our case, the employee would make $80 an hour in the weekends.\n",
    "- Fill in the output in F14:F44: amount of finished products times the value in I5."
   ]
  },
  {
   "cell_type": "markdown",
   "metadata": {},
   "source": [
    "```\n",
    "=E44*$I$5\n",
    "```"
   ]
  },
  {
   "cell_type": "markdown",
   "metadata": {},
   "source": [
    "- You're going to use G14:I44 to gradually calculate the total cost for each day:\n",
    "- In G14:G44, calculate the product cost: the values in E times I4. Be sure to use an absolute reference.\n",
    "- In H14:H44, calculate the wage cost: the values in D times $D$10, multiplied by 200% if it's weekend. A little help: = ___ * $D$10 * IF(___, $D$11, 1)\n",
    "- In I14:I44, calculate the total cost: the product cost plus the wage cost."
   ]
  },
  {
   "cell_type": "markdown",
   "metadata": {},
   "source": [
    "```\n",
    "=E14*$I$4\n",
    "\n",
    "=D14*$D$10 * IF(C14, $D$11, 1)\n",
    "\n",
    "=SUM(G14:H14)\n",
    "```"
   ]
  },
  {
   "cell_type": "markdown",
   "metadata": {},
   "source": [
    "- Fill in the net income in H14:H44: the output minus the cost.\n",
    "- Use the logic that is shown in the image above to fill in I14:I44. In words: if the net cost is less than $0, performance should be \"bad\". Otherwise if the net cost is less than $150 the performance should be \"acceptable\". Otherwise the performance should be \"good\".\n",
    "- A little help: IF(H14 < ___, ___, IF(H14 < ___, \"acceptable\", ___))."
   ]
  },
  {
   "cell_type": "markdown",
   "metadata": {},
   "source": [
    "```\n",
    "=F14-G14\n",
    "\n",
    "=IF(H14 < 0, \"bad\", IF(H14 < 150, \"acceptable\", \"good\"))\n",
    "```"
   ]
  },
  {
   "cell_type": "markdown",
   "metadata": {},
   "source": [
    "- Have a look at the values in column C, they're currently just values. No formulas.\n",
    "- Change the value in C14 by a formula using the day in B14. A weekend day is Saturday or Sunday.\n",
    "- Your formula should contain two logical expressions that test for weekend days.\n",
    "- Copy your result of C14 to C44, overwriting all manually entered logical values."
   ]
  },
  {
   "cell_type": "markdown",
   "metadata": {},
   "source": [
    "```\n",
    "=IF(OR(WEEKDAY(B14,2)=6,WEEKDAY(B14,2)=7),TRUE,FALSE)\n",
    "\n",
    "```"
   ]
  },
  {
   "cell_type": "markdown",
   "metadata": {},
   "source": [
    "- In I8, fill in the number of times the word \"good\" appears in I14:I44. Don't use \"good\" directly, but rather use a reference to H8. Make sure to use an absolute reference in the first argument.\n",
    "- A little help: ___($I$14:$I$44, ___).\n",
    "- If you used an absolute reference in the previous instruction, you can simply copy the value in I8 to I10 to find the frequencies of \"acceptable\" and \"bad\"."
   ]
  },
  {
   "cell_type": "markdown",
   "metadata": {},
   "source": [
    "```\n",
    "=COUNTIF($I$14:$I$44, \"good\")\n",
    "\n",
    "=COUNTIF($I$14:$I$44, \"acceptable\")\n",
    "\n",
    "=COUNTIF($I$14:$I$44, \"bad\")\n",
    "\n",
    "```"
   ]
  },
  {
   "cell_type": "markdown",
   "metadata": {},
   "source": [
    "- In H3:H6, fill in the number of times you received a payment from each person. Use COUNTIF with an absolute reference to $C$3:$C$26. Instead of using strings directly, use references to the values in G.\n",
    "- In H9:H11, fill in the number of times you received a payment for each event. Use COUNTIF again, and use references correctly so you can copy the values."
   ]
  },
  {
   "cell_type": "markdown",
   "metadata": {},
   "source": [
    "```\n",
    "=COUNTIF($C$3:$C$26,G3)\n",
    "\n",
    "=COUNTIF($E$3:$E$26,G9)\n",
    "```"
   ]
  },
  {
   "cell_type": "markdown",
   "metadata": {},
   "source": [
    "- In I3:I6, fill in the sum of the payments from each person. Use SUMIF with an absolute reference to $C$3:$C$26. Instead of using strings directly, use references to the values in G. For the last argument, use an absolute reference to the payments: $D$3:$D$26.\n",
    "- In I9:I11, fill in the sum of the payments for each event. Use SUMIF again, and use references correctly so you can copy the values."
   ]
  },
  {
   "cell_type": "markdown",
   "metadata": {},
   "source": [
    "```\n",
    "=SUMIF($C$3:$C$26 ,G3,$D$3:$D$26 )\n",
    "\n",
    "=SUMIF($E$3:$E$26 ,G10,$D$3:$D$26 )\n",
    "```"
   ]
  },
  {
   "cell_type": "markdown",
   "metadata": {},
   "source": [
    "- In J3:J6, fill in the average of the payments from each person. Use AVERAGEIF with an absolute reference to $C$3:$C$26. Instead of using strings directly, use references to the values in G. For the last argument, use an absolute reference to the payments: $D$3:$D$26.\n",
    "- In J9:J11, fill in the average of the payments for each event. Use AVERAGEIF again, and use references correctly so you can copy the values."
   ]
  },
  {
   "cell_type": "markdown",
   "metadata": {},
   "source": [
    "```\n",
    "=AVERAGEIF($C$3:$C$26,G3,$D$3:$D$26)\n",
    "\n",
    "=AVERAGEIF($E$3:$E$26,G9,$D$3:$D$26)\n",
    "```"
   ]
  },
  {
   "cell_type": "markdown",
   "metadata": {},
   "source": [
    "- In H14, fill in the average amount of the payments you received in the first half of the year. You can say that this the period before or on the first of July, 2017 -- or \"<= 2017-07-01\". Make sure you pass the correct range for the condition.\n",
    "- In H15, fill in the average amount of the payments you received in the second half of the year, or strictly after the first of July, 2017.\n",
    "    - Equals: 1 or \"= 1\"\n",
    "    - Greater than: \"> 1\"\n",
    "    - Greater than or equal to: \">= 1\"\n",
    "    - Less than: \"< 1\"\n",
    "    - Less than or equal to: \"<= 1\"\n",
    "    - Not equal to: \"<> 1\""
   ]
  },
  {
   "cell_type": "markdown",
   "metadata": {},
   "source": [
    "```\n",
    "=AVERAGEIF($B$3:$B$26,\"<= 2017-07-01\",$D$3:$D$26)\n",
    "\n",
    "=AVERAGEIF($B$3:$B$26,\"> 2017-07-01\",$D$3:$D$26)\n",
    "```"
   ]
  },
  {
   "cell_type": "markdown",
   "metadata": {},
   "source": [
    "- Fill in the corresponding median amount spent for the first and second half of 2017 in cells I14 and I15 using the following steps:\n",
    "- Use DATEVALUE to get the date as a number, use \"2017-07-01\" as the middle of the year: DATEVALUE(\"2017-07-01\").\n",
    "- This is required for logical comparisons with dates. B3:B26 <= <previous_result>.\n",
    "- FILTER reduces a range to the values where the condition is true. FILTER(<previous_result>).\n",
    "- MEDIAN calculates the median: MEDIAN(<previous_result>).\n",
    "- You should end up with a formula looking like: MEDIAN(FILTER(D3:D26, ___ <= DATEVALUE(___))) in I14. Switch the comparison operator for I15."
   ]
  },
  {
   "cell_type": "markdown",
   "metadata": {},
   "source": [
    "```\n",
    "=MEDIAN(FILTER($D$3:$D$26,$B$3:$B$26 <= DATEVALUE(\"2017-07-01\")))\n",
    "\n",
    "=MEDIAN(FILTER($D$3:$D$26,$B$3:$B$26 > DATEVALUE(\"2017-07-01\")))\n",
    "```"
   ]
  },
  {
   "cell_type": "markdown",
   "metadata": {},
   "source": [
    "- In D3, use a VLOOKUP formula where you look up the credits in the middle table for the code in C3 (which will serve as your search_key).\n",
    "- In your second argument, use an absolute reference for the lookup table, and do not include the headers. Note that you want to specify the entire range of the table (i.e. multiple columns).\n",
    "- The third argument, index, is the number of the column where we find credits, the second column.\n",
    "- The last argument is always FALSE, for now.\n",
    "- If you used an absolute reference in the previous step, you can copy the value of D3 until D10."
   ]
  },
  {
   "cell_type": "markdown",
   "metadata": {},
   "source": [
    "```\n",
    "=VLOOKUP(C3, $B$15:$C$26, 2, FALSE)\n",
    "```"
   ]
  },
  {
   "cell_type": "markdown",
   "metadata": {},
   "source": [
    "- You'll have to fill in B3:B10 using the class names described in the lookup table below. First, fill in B3: use the class code in C3 to look up the class name in $B$15:$D$26. Notice how the class names are in the 3rd column of the lookup table. Remember, the last argument of VLOOKUP is always FALSE for now.\n",
    "- If you used an absolute reference correctly in the previous step, you can copy the value of B3 until B10."
   ]
  },
  {
   "cell_type": "markdown",
   "metadata": {},
   "source": [
    "```\n",
    "=VLOOKUP(C3,$B$15:$D$26,3,FALSE)\n",
    "```"
   ]
  },
  {
   "cell_type": "markdown",
   "metadata": {},
   "source": [
    "- Fill in F3, the letter grade you achieved on Algebra. Use the bottom table and HLOOKUP to figure out which grade applies for your GPA. Notice how this time, the lookup doesn't need to match exactly so use the is_sorted argument wisely.\n",
    "- A little help: HLOOKUP(E3, ___, ___)\n",
    "- Now that you've found the value for F3, if you used absolute references correctly you can now copy the value downwards to F10 to find all of your grades."
   ]
  },
  {
   "cell_type": "markdown",
   "metadata": {},
   "source": [
    "```\n",
    "=HLOOKUP(E4,$C$29:$H$30,2,TRUE)\n",
    "```"
   ]
  },
  {
   "cell_type": "markdown",
   "metadata": {},
   "source": [
    "- In D11, calculate the sum of the credits from each course.\n",
    "- In cells G3:G10, calculate the product of the values in D and E.\n",
    "- Calculate the sum of these values in G11 and divide this sum by the total amount of credits (D11).\n",
    "- In E11, use SUMPRODUCT with D3:D10 and E3:E10, and then divide by the total amount of credits (D11) to find the same result as G11 (much simpler!).\n",
    "- Find the grade corresponding to your weighted average GPA in F11 by using the result in E11 and an HLOOKUP. You can use the existing HLOOKUP in cell F10 and simply copy the value down into cell F11!"
   ]
  },
  {
   "cell_type": "markdown",
   "metadata": {},
   "source": [
    "```\n",
    "=SUM(D3:D10)\n",
    "\n",
    "=D3*E3\n",
    "\n",
    "=SUM(G3:G10)/D11\n",
    "\n",
    "=SUMPRODUCT(D3:D10,E3:E10)/D11\n",
    "\n",
    "=HLOOKUP(E11,C29:H30,2,TRUE)\n",
    "```"
   ]
  }
 ],
 "metadata": {
  "language_info": {
   "name": "python"
  },
  "orig_nbformat": 4
 },
 "nbformat": 4,
 "nbformat_minor": 2
}
