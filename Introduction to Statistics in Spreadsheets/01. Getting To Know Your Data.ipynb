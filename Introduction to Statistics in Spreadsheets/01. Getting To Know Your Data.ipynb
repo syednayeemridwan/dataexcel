{
 "cells": [
  {
   "cell_type": "markdown",
   "metadata": {},
   "source": [
    "- In cell D2, calculate the SUM() of Barack Obama's approval rating for 2016.\n",
    "- COUNT() the number of observations in the data range A1:A13.\n",
    "- Divide the sum by the count to calculate the monthly mean average."
   ]
  },
  {
   "cell_type": "markdown",
   "metadata": {},
   "source": [
    "```\n",
    "=SUM(B2:B13)\n",
    "\n",
    "=COUNT(B2:B13)\n",
    "\n",
    "=D2/E2\n",
    "```"
   ]
  },
  {
   "cell_type": "markdown",
   "metadata": {},
   "source": [
    "- In cell B14, use the AVERAGE() function to calculate the 2009 mean rating by passing in the range B2:B13.\n",
    "- To get all annual mean ratings, drag and fill in the formula from B14 across to I14."
   ]
  },
  {
   "cell_type": "markdown",
   "metadata": {},
   "source": [
    "```\n",
    "=AVERAGE(B2:B13)\n",
    "```"
   ]
  },
  {
   "cell_type": "markdown",
   "metadata": {},
   "source": [
    "- In cell G2, calculate the AVERAGE() for the middle observations, D5 and D6.\n",
    "- Now use MEDIAN() in H2 passing in all revenue amounts, D2:D9.\n",
    "- In cell I2, calculate the AVERAGE() of D2:D9. How different is it from the median?"
   ]
  },
  {
   "cell_type": "markdown",
   "metadata": {},
   "source": [
    "```\n",
    "=AVERAGE(D5:D6)\n",
    "\n",
    "=MEDIAN(D2:D9)\n",
    "\n",
    "=AVERAGE(D2:D9)\n",
    "```"
   ]
  },
  {
   "cell_type": "markdown",
   "metadata": {},
   "source": [
    "- In cells F2 and G2, calculate the mean number of lab procedures and mean number of lab medications.\n",
    "- In cells F3 and G3, calculate the median number of lab procedures and median number of lab medications.\n",
    "- In cells F4 and F4, calculate the modes of the two columns."
   ]
  },
  {
   "cell_type": "markdown",
   "metadata": {},
   "source": [
    "```\n",
    "=AVERAGE(B2:B101)\n",
    "\n",
    "=MEDIAN(B2:B101)\n",
    "\n",
    "=MODE(B2:B101)\n",
    "```"
   ]
  },
  {
   "cell_type": "markdown",
   "metadata": {},
   "source": [
    "- In cell D2, calculate the difference between B2 and the mean train ridership (AVERAGE($B$2:$B$160)). Do the same for the rest of the column.\n",
    "- In column E, square each of the differences in column D using ^2.\n",
    "- Calculate the variance by calculating the mean of E2:E160 in F2.\n",
    "- Use VARP() on B2:B160 to concisely calculate the variance."
   ]
  },
  {
   "cell_type": "markdown",
   "metadata": {},
   "source": [
    "```\n",
    "=B2-AVERAGE($B$2:$B$160)\n",
    "\n",
    "=D2^2\n",
    "\n",
    "=AVERAGE(E2:E160)\n",
    "\n",
    "=VARP(B2:B160)\n",
    "```"
   ]
  },
  {
   "cell_type": "markdown",
   "metadata": {},
   "source": [
    "- In cell D2, calculate the variance of the data using VARP().\n",
    "- In cell E2, calculate the square root of the variance.\n",
    "- Finally, in cell F2, use STDEVP() to automatically calculate the standard deviation."
   ]
  },
  {
   "cell_type": "markdown",
   "metadata": {},
   "source": [
    "```\n",
    "=VARP(B2:B160)\n",
    "\n",
    "=SQRT(D2)\n",
    "\n",
    "=STDEVP(B2:B160)\n",
    "```"
   ]
  },
  {
   "cell_type": "markdown",
   "metadata": {},
   "source": [
    "- Use the QUARTILE() function to calculate the first, second, third, and fourth quartiles in the respective cells."
   ]
  },
  {
   "cell_type": "markdown",
   "metadata": {},
   "source": [
    "```\n",
    "=QUARTILE($B$2:$B$160,1)\n",
    "\n",
    "=QUARTILE($B$2:$B$160,2)\n",
    "\n",
    "=QUARTILE($B$2:$B$160,3)\n",
    "\n",
    "=QUARTILE($B$2:$B$160,4)\n",
    "```"
   ]
  },
  {
   "cell_type": "markdown",
   "metadata": {},
   "source": [
    "- In cell I2, using STANDARDIZE(), pass in the Square Feet of B2, then the mean at $E$3 and finally the STDEVP() in $F$3. Drag this formula all the way down to get the entire vector. Remember those $ signs!\n",
    "- In cells L2 and L3, use SUM() to add up the standardized values in columns H and I, respectively.\n",
    "- In cells M2 and M3, calculate the mean of the standardized values in columns H and I. Compare the results of the scaled columns."
   ]
  },
  {
   "cell_type": "markdown",
   "metadata": {},
   "source": [
    "```\n",
    "=(B2-$E$3)/$F$3\n",
    "\n",
    "=SUM(H2:H11)\n",
    "=SUM(I1:I11)\n",
    "\n",
    "\n",
    "=AVERAGE(H2:H11)\n",
    "=AVERAGE(I2:I11)\n",
    "\n",
    "```"
   ]
  },
  {
   "cell_type": "markdown",
   "metadata": {},
   "source": [
    "- In cell J3, calculate the average closing price.\n",
    "- In cell J6, calculate the median closing price.\n",
    "- In cell J9, calculate the most frequently occuring closing price.\n",
    "- In cell J12, calculate the population standard deviation of the closing price column using STDEVP()."
   ]
  },
  {
   "cell_type": "markdown",
   "metadata": {},
   "source": [
    "```\n",
    "=AVERAGE($F$2:$F$151)\n",
    "\n",
    "=MEDIAN($F$2:$F$151)\n",
    "\n",
    "=MODE($F$2:$F$151)\n",
    "\n",
    "=STDEVP(($F$2:$F$151)\n",
    "```"
   ]
  }
 ],
 "metadata": {
  "language_info": {
   "name": "python"
  },
  "orig_nbformat": 4
 },
 "nbformat": 4,
 "nbformat_minor": 2
}
