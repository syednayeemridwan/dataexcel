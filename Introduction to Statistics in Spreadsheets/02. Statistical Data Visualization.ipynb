{
 "cells": [
  {
   "cell_type": "markdown",
   "metadata": {},
   "source": [
    "- In the highlighted region between H1 and K1, insert a histogram to visualize the savings column (B2:B101)."
   ]
  },
  {
   "cell_type": "markdown",
   "metadata": {},
   "source": [
    "```\n",
    "Insert > Chart > Chart Type : Histogram Chart > Data Range : B2:B101\n",
    "```"
   ]
  },
  {
   "cell_type": "markdown",
   "metadata": {},
   "source": [
    "- In cell F1, calculate the mean retention.\n",
    "- In cell F2, calculate the median retention and compare it to the mean. What do you expect the histogram to look like as a result?\n",
    "- Insert a histogram in the highlighted region to view the tails of the data."
   ]
  },
  {
   "cell_type": "markdown",
   "metadata": {},
   "source": [
    "```\n",
    "=AVERAGE($B$2:$B$101)\n",
    "\n",
    "=MEDIAN($B$2:$B$101)\n",
    "\n",
    "Insert > Chart > Chart Type : Histogram Chart > Data Range : $B$2:$B$101\n",
    "\n",
    "```"
   ]
  },
  {
   "cell_type": "markdown",
   "metadata": {},
   "source": [
    "- In cell F3, calculate the mode.\n",
    "- In cell F4, calculate the standard deviation using STDEV().\n",
    "- Visualize this new distribution in a histogram to see the shape and how the \"tails\" of the histogram behave."
   ]
  },
  {
   "cell_type": "markdown",
   "metadata": {},
   "source": [
    "```\n",
    "=MODE($B$2:$B$101)\n",
    "\n",
    "=STDEV($B$2:$B$101)\n",
    "\n",
    "Insert > Chart > Chart Type : Histogram Chart > Data Range : $B$2:$B$101\n",
    "```"
   ]
  },
  {
   "cell_type": "markdown",
   "metadata": {},
   "source": [
    "- In cells F5 and F6, calculate the skew and kurtosis of the savings data."
   ]
  },
  {
   "cell_type": "markdown",
   "metadata": {},
   "source": [
    "```\n",
    "=SKEW($B$2:$B$101)\n",
    "\n",
    "=KURT($B$2:$B$101)\n",
    "```"
   ]
  },
  {
   "cell_type": "markdown",
   "metadata": {},
   "source": [
    "Kurtosis: Calculated using KURT(). Measures how the tails behave. It identifies how values are concentrated around the mean and how they trail away from it in the tails.\n",
    "\n",
    "Skew: Calculated using SKEW(). Measures how symmetrical the distribution is. 0 means the distribution is exactly symmetrical. Values above or below 0 indicate that there are more values above or below the mean.\n",
    "\n",
    "With both skew and kurtosis under 2, the statistics verify that this data is indeed pretty normal!"
   ]
  },
  {
   "cell_type": "markdown",
   "metadata": {},
   "source": [
    "- In cell D2, calculate the correlation between \"Open Price\" (B2:B100) and \"Quantity Sold\" (A2:A100).\n",
    "- Insert a scatter plot where the X variable is \"Open Price\" and Y variable is \"Quantity Sold\". Will they be positively or negatively correlated?"
   ]
  },
  {
   "cell_type": "markdown",
   "metadata": {},
   "source": [
    "```\n",
    "=CORREL(B2:B101,A2:A101)\n",
    "\n",
    "Insert > Chart > Chart Type : Scatter Chart > Data Range : $A$2:$B$100 > X-axis : B2:B100 > Y-Axis : A2:A100 > Customize > Trendline\n",
    "```"
   ]
  },
  {
   "cell_type": "markdown",
   "metadata": {},
   "source": [
    "- In D2, calculate the correlation between \"Seller Rating\" and \"Close Price\".\n",
    "- Insert a scatter (XY) plot at F1, with \"Seller Rating\" on the x-axis."
   ]
  },
  {
   "cell_type": "markdown",
   "metadata": {},
   "source": [
    "```\n",
    "=CORREL(A2:A101,B2:B101)\n",
    "\n",
    "Insert > Chart > Chart Type : Scatter Chart > Data Range : $A$2:$B$100 > X-axis : A2:A101 > Y-Axis : B2:B101 > Customize > Trendline\n",
    "```"
   ]
  },
  {
   "cell_type": "markdown",
   "metadata": {},
   "source": [
    "- In cell D5, calculate the SLOPE() of \"Close Price\" (B2:B101) and \"Seller Rating\" (A2:A101).\n",
    "- Similarly, calculate the INTERCEPT() in E5.\n",
    "- In cell D9, pass in B2:B101 and A2:A101 to LINEST(). It will return a values in D9 and E9.\n",
    "- Customize the scatter chart series with a trendline by clicking the checkbox."
   ]
  },
  {
   "cell_type": "markdown",
   "metadata": {},
   "source": [
    "```\n",
    "=SLOPE(B2:B101,A2:A101)\n",
    "\n",
    "=INTERCEPT(B2:B101,A2:A101)\n",
    "\n",
    "=LINEST(B2:B101,A2:A101) // 1st return value is slope, 2nd return value is intercept\n",
    "```"
   ]
  },
  {
   "cell_type": "markdown",
   "metadata": {},
   "source": [
    "- Insert a column chart referencing D2:E2 in cell G1.\n",
    "- Create another visual of the same data at G10, this time selecting \"Stacked column chart\"."
   ]
  },
  {
   "cell_type": "markdown",
   "metadata": {},
   "source": [
    "```\n",
    "Inside D2:\n",
    "=countif(B2:B151,1)\n",
    "\n",
    "Inside E2:\n",
    "=count(B2:B151,0)-D2\n",
    "\n",
    "Insert > Chart > Chart Type : Column Chart > Data Range : D2:E2 \n",
    "\n",
    "Insert > Chart > Chart Type : Stacked Column Chart > Data Range : D2:E2 \n",
    "```"
   ]
  },
  {
   "cell_type": "markdown",
   "metadata": {},
   "source": [
    "- Highlight cells K5 through M8 and insert a column chart. How do different categories sell?"
   ]
  },
  {
   "cell_type": "markdown",
   "metadata": {},
   "source": [
    "```\n",
    "=COUNTIF(H2:H151,1)\n",
    "\n",
    "=COUNTIF(H2:H151,0) // both calculation in horizontal cells\n",
    "\n",
    "Insert > Chart > Chart Type : Stacked Column Chart > Data Range : D2:E2 > 100% Stacked Bar Chart\n",
    "```"
   ]
  }
 ],
 "metadata": {
  "language_info": {
   "name": "python"
  },
  "orig_nbformat": 4
 },
 "nbformat": 4,
 "nbformat_minor": 2
}
