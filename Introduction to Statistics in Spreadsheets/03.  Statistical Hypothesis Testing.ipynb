{
 "cells": [
  {
   "cell_type": "markdown",
   "metadata": {},
   "source": [
    "- In cell E2, calculate the mean of the first 20 observations.\n",
    "- In cell F2, calculate the standard deviation of the same 20 observations.\n",
    "- Insert a histogram of A2:A21 in the highlighted region. Examine how \"normal\" this visual looks."
   ]
  },
  {
   "cell_type": "markdown",
   "metadata": {},
   "source": [
    "```\n",
    "=AVERAGE(A2:A21)\n",
    "\n",
    "=STDEV(A2:A21)\n",
    "\n",
    "Chart > Histogram > A2:A21\n",
    "```\n",
    "- Distribution is not normal"
   ]
  },
  {
   "cell_type": "markdown",
   "metadata": {},
   "source": [
    "- In E3, calculate the mean of the first 40 samples.\n",
    "- In F3, calculate the standard deviation of the first 40 samples.\n",
    "- Create a histogram of the first 40 samples."
   ]
  },
  {
   "cell_type": "markdown",
   "metadata": {},
   "source": [
    "```\n",
    "=average($A$2:$A$41)\n",
    "\n",
    "=STDEV($A$2:$A$41)\n",
    "\n",
    "Chart > Histogram > $A$2:$A$41\n",
    "```\n",
    "- Distribution is a bit more normal"
   ]
  },
  {
   "cell_type": "markdown",
   "metadata": {},
   "source": [
    "- In cells E4 and F4, compute the mean and standard deviation of the entire population.\n",
    "- Create a histogram of the entire population."
   ]
  },
  {
   "cell_type": "markdown",
   "metadata": {},
   "source": [
    "```\n",
    "=AVERAGE(A2:A173)\n",
    "\n",
    "=STDEVP($A$2:$A$173)\n",
    "\n",
    "Chart > Histogram > A2:A173\n",
    "```\n",
    "\n"
   ]
  },
  {
   "cell_type": "markdown",
   "metadata": {},
   "source": [
    "- In E7, use T.TEST() to get a p-value for the two samples.\n",
    "- Type REJECT in E8 if the p-value is less than 0.05. If not, type FAIL TO REJECT."
   ]
  },
  {
   "cell_type": "markdown",
   "metadata": {},
   "source": [
    "Prior to introducing a new fertilizer, 10 plant heights were measured. After the new fertilizer was used another 10 plants were measured. You will perform a t-test to understand if the plant heights in the samples are in fact different. This is a two-tailed test because the heights are either above or below the original sample, \"tails\" to either side of the original distribution. The type is 2 because the samples are not from the same subjects but they have the same variance."
   ]
  },
  {
   "cell_type": "markdown",
   "metadata": {},
   "source": [
    "```\n",
    "=T.TEST(A2:A11,B2:B11,2,2)\n",
    "\n",
    "=IF(E7<0.05,\"REJECT\",\"FAIL TO REJECT\")\n",
    "```"
   ]
  },
  {
   "cell_type": "markdown",
   "metadata": {},
   "source": [
    "- In E7 calculate the p-value using a t-test.\n",
    "- Type REJECT in E8 if the p-value is less than 0.05. Otherwise type FAIL TO REJECT."
   ]
  },
  {
   "cell_type": "markdown",
   "metadata": {},
   "source": [
    "Now you are looking at driver data. Most research suggests drivers perform better in the morning versus in the afternoon. The researcher here measured 10 drivers in the morning and again the same drivers in the evening. The milliseconds response time is the time needed to apply the brakes after seeing a prompt in the simulator. You need to perform a t-test to see if this data supports the research that drivers do indeed perform better in the morning. 1-tailed, since performance is assumed to be better for drivers who drive in evening as null hypothesis. Type 1, Since same people participated."
   ]
  },
  {
   "cell_type": "markdown",
   "metadata": {},
   "source": [
    "```\n",
    "=T.TEST(A2:A11,B2:B11,1,1)\n",
    "\n",
    "=IF(E7<0.05,\"REJECT\",\"FAIL TO REJECT\")\n",
    "```"
   ]
  },
  {
   "cell_type": "markdown",
   "metadata": {},
   "source": [
    "- In D9, calculate the p-value using Z.TEST(). Use the entire data range followed by the population mean.\n",
    "- The result in D9 is for a one-tailed test. With a cutoff of 0.05, determine is you should REJECT or FAIL TO REJECT H0."
   ]
  },
  {
   "cell_type": "markdown",
   "metadata": {},
   "source": [
    "```\n",
    "=Z.TEST(A2:A33,D8)\n",
    "\n",
    "=IF(D9<D7,\"REJECT\",\"FAIL TO REJECT\")\n",
    "```"
   ]
  },
  {
   "cell_type": "markdown",
   "metadata": {},
   "source": [
    "- In D9 once again perform a Z.TEST().\n",
    "- In D10, multiply the result by 2 to account for the second tail.\n",
    "- Determine the result of the hypothesis test in D11 as REJECT of FAIL TO REJECT."
   ]
  },
  {
   "cell_type": "markdown",
   "metadata": {},
   "source": [
    "```\n",
    "=Z.TEST(A2:A33,D8)\n",
    "\n",
    "=D9*2\n",
    "\n",
    "=IF(D10<D7,\"REJECT\",\"FAIL TO REJECT\")\n",
    "```"
   ]
  },
  {
   "cell_type": "markdown",
   "metadata": {},
   "source": [
    "- In E8, use CHITEST() with the appropriate ranges to calculate the p-value.\n",
    "- Either REJECT or FAIL TO REJECT the Null Hypothesis based on the value in E8."
   ]
  },
  {
   "cell_type": "markdown",
   "metadata": {},
   "source": [
    "In this exercise you are reviewing a call center agent's call times. The agent has a higher average call time than the expected call time for all other agents. Let's see if this agent's specific call times are due to chance, i.e. random call variation, or because the agent needs more training to speed up."
   ]
  },
  {
   "cell_type": "markdown",
   "metadata": {},
   "source": [
    "```\n",
    "=CHITEST(A2:A11,B2:B11)\n",
    "\n",
    "=IF(E8<E7,\"REJECT\",\"FAIL TO REJECT\")\n",
    "```"
   ]
  },
  {
   "cell_type": "markdown",
   "metadata": {},
   "source": [
    "- Perform a chi-squared test in G9.\n",
    "- Either REJECT or FAIL TO REJECT the null hypothesis based on the p-value in G9."
   ]
  },
  {
   "cell_type": "markdown",
   "metadata": {},
   "source": [
    "```\n",
    "=CHITEST(B3:B8,C3:C8)\n",
    "\n",
    "=IF(G9<G8,\"REJECT\",\"FAIL TO REJECT\")\n",
    "```"
   ]
  }
 ],
 "metadata": {
  "language_info": {
   "name": "python"
  },
  "orig_nbformat": 4
 },
 "nbformat": 4,
 "nbformat_minor": 2
}
