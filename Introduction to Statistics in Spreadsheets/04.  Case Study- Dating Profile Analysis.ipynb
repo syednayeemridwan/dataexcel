{
 "cells": [
  {
   "cell_type": "markdown",
   "metadata": {},
   "source": [
    "- In D2, calculate the mean age.\n",
    "- In E2, identify the maximum age among all sampled user profiles.\n",
    "- In F2, calculate the minimum age."
   ]
  },
  {
   "cell_type": "markdown",
   "metadata": {},
   "source": [
    "```\n",
    "=AVERAGE(B2:B501)\n",
    "\n",
    "=MAX(B2:B501)\n",
    "\n",
    "=MIN(B2:B501)\n",
    "```"
   ]
  },
  {
   "cell_type": "markdown",
   "metadata": {},
   "source": [
    "- In E2, calculate the median number of drinks per week.\n",
    "- In F2, calculate the mode of the \"Drinks per week\" column.\n",
    "- In G2, use COUNTIF() to calculate the number of non-drinkers - that is, rows where \"Drinks per week\" is 0."
   ]
  },
  {
   "cell_type": "markdown",
   "metadata": {},
   "source": [
    "```\n",
    "=MEDIAN(C2:C501)\n",
    "\n",
    "=MODE(C2:C501)\n",
    "\n",
    "=COUNTIF(C2:C501,\"=0\")\n",
    "```"
   ]
  },
  {
   "cell_type": "markdown",
   "metadata": {},
   "source": [
    "- Using VAR(), calculate the variance of the \"Hours since last login\" column.\n",
    "- In I2, use STDEV() to calculate the standard deviation of the login data.\n",
    "- In J2, calculate the maximum value in the \"Hours since last login\" column.\n",
    "- Calculate the z-score in K2 by subtracting F2 from J2 and dividing by I2."
   ]
  },
  {
   "cell_type": "markdown",
   "metadata": {},
   "source": [
    "```\n",
    "=VAR(B2:B501)\n",
    "\n",
    "=STDEV(B2:B501)\n",
    "\n",
    "=MAX(B2:B501)\n",
    "\n",
    "=(J2-F2)/I2\n",
    "```"
   ]
  },
  {
   "cell_type": "markdown",
   "metadata": {},
   "source": [
    "- In the highlighted region beginning at G1, insert a histogram with B2:B501 as the data range."
   ]
  },
  {
   "cell_type": "markdown",
   "metadata": {},
   "source": [
    "```\n",
    "Chart > Histogram > B2:B501\n",
    "```"
   ]
  },
  {
   "cell_type": "markdown",
   "metadata": {},
   "source": [
    "- Insert a histogram of age in the highlighted region."
   ]
  },
  {
   "cell_type": "markdown",
   "metadata": {},
   "source": [
    "```\n",
    "Chart > Histogram > B2:B501\n",
    "```"
   ]
  },
  {
   "cell_type": "markdown",
   "metadata": {},
   "source": [
    "- In G2 calculate the correl Then compare with church visits' correlation 0.61\n",
    "- Highlight B1:C501 to select the fields for the chart.\n",
    "- Using the navigation bar, insert a Chart\n",
    "- Select Scatter from the Chart type dropdown."
   ]
  },
  {
   "cell_type": "markdown",
   "metadata": {},
   "source": [
    "```\n",
    "=CORREL(B2:B501,C2:C501)\n",
    "\n",
    "Chart > Scatter > B1:C501\n",
    "```"
   ]
  },
  {
   "cell_type": "markdown",
   "metadata": {},
   "source": [
    "- In K2, conduct a chi-squared test by passing in the observed range B3:C7 and then the expected range 'G3:H7' to get the p-value.\n",
    "- Enter REJECT or FAIL TO REJECT demonstrating your interpretation of the test."
   ]
  },
  {
   "cell_type": "markdown",
   "metadata": {},
   "source": [
    "```\n",
    "=CHITEST(B3:C7,G3:H7)\n",
    "\n",
    "=IF(K2<0.05,\"REJECT\",\"FAIL TO REJECT\")\n",
    "```"
   ]
  },
  {
   "cell_type": "markdown",
   "metadata": {},
   "source": [
    "- In F2, find the correlation between income and age.\n",
    "- Calculate a best fit line with LINEST() in cell G2 for income and age.\n",
    "- In cell E2, calculate the \"fit\" of the linest function using \"intercept\" + (\"age\" * \"slope\") referring to the appropriate cells."
   ]
  },
  {
   "cell_type": "markdown",
   "metadata": {},
   "source": [
    "```\n",
    "=CORREL(B2:B501,C2:C501)\n",
    "\n",
    "=LINEST(C2:C501,B2:B501)\n",
    "\n",
    "=$H$2+$G$2*B2\n",
    "```"
   ]
  },
  {
   "cell_type": "markdown",
   "metadata": {},
   "source": [
    "- In G2, calculate the coefficients using LINEST(). First pass in the Y variables range B2:B201, and then include the X-variable array C2:E201.\n",
    "- Following the multiple linear regression equation, calculate the first observation's estimate in cell K2. Compare it with the actual value in B2."
   ]
  },
  {
   "cell_type": "markdown",
   "metadata": {},
   "source": [
    "```\n",
    "=LINEST(B2:B201,C2:E201)\n",
    "\n",
    "=G2*C2+H2*D2+I2*E2+J2\n",
    "```"
   ]
  }
 ],
 "metadata": {
  "language_info": {
   "name": "python"
  },
  "orig_nbformat": 4
 },
 "nbformat": 4,
 "nbformat_minor": 2
}
