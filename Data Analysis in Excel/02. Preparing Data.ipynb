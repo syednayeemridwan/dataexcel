{
 "cells": [
  {
   "cell_type": "markdown",
   "metadata": {},
   "source": [
    "- Go to cell P2.\n",
    "- Join the city and state together. Make sure to add a comma and space (\", \") between the fields."
   ]
  },
  {
   "cell_type": "markdown",
   "metadata": {},
   "source": [
    "```\n",
    "# First go to P2\n",
    "CTRL + G then P2 \n",
    "# Second step to use function\n",
    "= CONCATENATE(N2,\", \",O2)\n",
    "```"
   ]
  },
  {
   "cell_type": "markdown",
   "metadata": {},
   "source": [
    "- Go to cell D2.\n",
    "- Capitalize only the first letter of each word."
   ]
  },
  {
   "cell_type": "markdown",
   "metadata": {},
   "source": [
    "```\n",
    "# First go to D2\n",
    "CTRL + G then D2 \n",
    "# Second step to use function\n",
    "= PROPER(D2)\n",
    "```"
   ]
  },
  {
   "cell_type": "markdown",
   "metadata": {},
   "source": [
    "- Convert the currency values to uppercase in column K.\n",
    "- Convert the staff_pick values to lowercase in column W."
   ]
  },
  {
   "cell_type": "markdown",
   "metadata": {},
   "source": [
    "```\n",
    "# First go to K2\n",
    "CTRL + G then K2 \n",
    "# Second step to use function\n",
    "= UPPER(D2)\n",
    "# Third go to W2\n",
    "CTRL + G then W2 \n",
    "# Fourth step to use function\n",
    "= LOWER(D2)\n",
    "```"
   ]
  },
  {
   "cell_type": "markdown",
   "metadata": {},
   "source": [
    "What would be the result of the following formula: `CONCATENATE(L2, \" \", K2, \" \", PROPER(\"pledged\"))`?\n",
    "- 15047 USD Pledged"
   ]
  },
  {
   "cell_type": "markdown",
   "metadata": {},
   "source": [
    "- Go to column V.\n",
    "- Count the number of characters in https://www.kickstarter.com/discover/categories/games/."
   ]
  },
  {
   "cell_type": "markdown",
   "metadata": {},
   "source": [
    "```\n",
    "# First go to V2\n",
    "CTRL + G then K2 \n",
    "# Second step to use function\n",
    "=LEN(\"https://www.kickstarter.com/discover/categories/games/\")\n",
    "```"
   ]
  },
  {
   "cell_type": "markdown",
   "metadata": {},
   "source": [
    "- Go to cell W2.\n",
    "- Extract only the part of the source URL that comes after the last /."
   ]
  },
  {
   "cell_type": "markdown",
   "metadata": {},
   "source": [
    "```\n",
    "# First go to W2\n",
    "CTRL + G then W2 \n",
    "# Second step to use function\n",
    "=RIGHT(U2,LEN(U2)-V2)\n",
    "```"
   ]
  },
  {
   "cell_type": "markdown",
   "metadata": {},
   "source": [
    "- Go to cell X2.\n",
    "- Replace \"%20\" in the source_url_category column by \" \"."
   ]
  },
  {
   "cell_type": "markdown",
   "metadata": {},
   "source": [
    "```\n",
    "# First go to X2\n",
    "CTRL + G then X2 \n",
    "# Second step to use function\n",
    "=SUBSTITUTE(W2,\"%20\",\" \")\n",
    "```"
   ]
  },
  {
   "cell_type": "markdown",
   "metadata": {},
   "source": [
    "In Excel, there are two functions that give information about the current date and time: NOW() and TODAY(). What function should be used to calculate the time difference?\n",
    "- `=NOW()-A2`"
   ]
  },
  {
   "cell_type": "markdown",
   "metadata": {},
   "source": [
    "- Go to cell H2.\n",
    "- Determine the time difference between the deadline and the launched_at date."
   ]
  },
  {
   "cell_type": "markdown",
   "metadata": {},
   "source": [
    "```\n",
    "# First go to H2\n",
    "CTRL + G then H2 \n",
    "# Second step to use function\n",
    "=G2-F2\n",
    "```"
   ]
  },
  {
   "cell_type": "markdown",
   "metadata": {},
   "source": [
    "- Go to cell I2.\n",
    "- Insert the day of the week the projects were launched, with Monday being the first day."
   ]
  },
  {
   "cell_type": "markdown",
   "metadata": {},
   "source": [
    "```\n",
    "# First go to I2\n",
    "CTRL + G then I2 \n",
    "# Second step to use function\n",
    "=WEEKDAY(F2,2) # sunday =1, monday =2 considering weekends\n",
    "```"
   ]
  },
  {
   "cell_type": "markdown",
   "metadata": {},
   "source": [
    "- Go to cell J2.\n",
    "- Insert the month the projects were launched."
   ]
  },
  {
   "cell_type": "markdown",
   "metadata": {},
   "source": [
    "```\n",
    "# First go to J2\n",
    "CTRL + G then J2 \n",
    "# Second step to use function\n",
    "=MONTH(F2) # sunday =1, monday =2 considering weekends\n",
    "```"
   ]
  },
  {
   "cell_type": "markdown",
   "metadata": {},
   "source": [
    "When using VLOOKUP on 2 tables, what do you see first?\n",
    "- Search for columns that are common in both tables.\n"
   ]
  },
  {
   "cell_type": "markdown",
   "metadata": {},
   "source": [
    "One of the arguments of VLOOKUP()is range_lookup. It's important to understand what this argument does. If the range_lookup is entered as FALSE, which best describes the results?\n",
    "- Excel will look for an exact match"
   ]
  },
  {
   "cell_type": "markdown",
   "metadata": {},
   "source": [
    "- Use VLOOKUP() to add the exchange rates in column O.\n",
    "- Using this information, calculate the pledged amount in dollars in column Q."
   ]
  },
  {
   "cell_type": "markdown",
   "metadata": {},
   "source": [
    "```\n",
    "# First go to O2\n",
    "CTRL + G then O2 \n",
    "# Second step to use function\n",
    "=VLOOKUP(N2,'Exchange Rate Table'!A:B,2,FALSE)\n",
    "# Third go to Q2\n",
    "CTRL + G then Q2 \n",
    "# Fourth step to use function\n",
    "=O2*P2\n",
    "```"
   ]
  }
 ],
 "metadata": {
  "language_info": {
   "name": "python"
  },
  "orig_nbformat": 4
 },
 "nbformat": 4,
 "nbformat_minor": 2
}
