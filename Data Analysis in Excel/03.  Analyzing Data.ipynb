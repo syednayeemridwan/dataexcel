{
 "cells": [
  {
   "cell_type": "markdown",
   "metadata": {},
   "source": [
    "- Go to cell AL3.\n",
    "- Count the number of non-blank values for the range D2:G153."
   ]
  },
  {
   "cell_type": "markdown",
   "metadata": {},
   "source": [
    "```\n",
    "# First go to AL3\n",
    "CTRL + G then AL3 \n",
    "# Second step to use function\n",
    "=COUNTA(D2:G153)\n",
    "```"
   ]
  },
  {
   "cell_type": "markdown",
   "metadata": {},
   "source": [
    "- Go to cell AK2.\n",
    "- Count the number of blank values in the entire dataset."
   ]
  },
  {
   "cell_type": "markdown",
   "metadata": {},
   "source": [
    "```\n",
    "# First go to AK2\n",
    "CTRL + G then AK2 \n",
    "# Second step to use function\n",
    "=COUNTBLANK(A2:AF153)\n",
    "```"
   ]
  },
  {
   "cell_type": "markdown",
   "metadata": {},
   "source": [
    "- Go to cell AL5.\n",
    "- Find the minimum goal USD value."
   ]
  },
  {
   "cell_type": "markdown",
   "metadata": {},
   "source": [
    "```\n",
    "# First go to AL5\n",
    "CTRL + G then AL5 \n",
    "# Second step to use function\n",
    "=MIN(T2:T153)\n",
    "```"
   ]
  },
  {
   "cell_type": "markdown",
   "metadata": {},
   "source": [
    "- Go to cell AL8.\n",
    "- Calculate the following summary statistics for the backers count:\n",
    "- Sum\n",
    "- Minimum\n",
    "- Maximum\n",
    "- Average\n",
    "- Median"
   ]
  },
  {
   "cell_type": "markdown",
   "metadata": {},
   "source": [
    "```\n",
    "# First go to AL5\n",
    "CTRL + G then AL5 \n",
    "# Second step to use function\n",
    "=SUM(L2:L153)\n",
    "=MIN(L2:L153)\n",
    "=MAX(L2:L153)\n",
    "=AVERAGE(L2:L153)\n",
    "=MEDIAN(L2:L153)\n",
    "```"
   ]
  },
  {
   "cell_type": "markdown",
   "metadata": {},
   "source": [
    "- Go to cell J2.\n",
    "- Check if a project was launched during the weekend.\n",
    "- If yes, set the value to Weekend\n",
    "- If no, set the value to Week Day"
   ]
  },
  {
   "cell_type": "markdown",
   "metadata": {},
   "source": [
    "```\n",
    "# First go to J2\n",
    "CTRL + G then J2 \n",
    "# Second step to use function\n",
    "=IF(I2>5,\"Weekend\",\"Week Day\")\n",
    "```"
   ]
  },
  {
   "cell_type": "markdown",
   "metadata": {},
   "source": [
    "- Go to cell N2.\n",
    "- Increase the backers_count by 5 if:\n",
    "- The launched_at_month is January OR September\n",
    "- The city is Vancouver AND the country_trimmed is Canada\n",
    "- If these conditions are not met, the backers_count stays the same."
   ]
  },
  {
   "cell_type": "markdown",
   "metadata": {},
   "source": [
    "```\n",
    "# First go to N2\n",
    "CTRL + G then N2 \n",
    "# Second step to use function\n",
    "=IF(AND(OR(K2=1,K2=9),W2=\"Vancouver\",AA2=\"Canada\"), M2+5,M2)\n",
    "```"
   ]
  },
  {
   "cell_type": "markdown",
   "metadata": {},
   "source": [
    "- Go to cell AM15.\n",
    "- Determine the number of unique categories using the values of the source_url_category_cleaned column."
   ]
  },
  {
   "cell_type": "markdown",
   "metadata": {},
   "source": [
    "```\n",
    "# First go to AM15\n",
    "CTRL + G then AM15 \n",
    "# Second step to use function\n",
    "=UNIQUE(AE2:AE153)\n",
    "```"
   ]
  },
  {
   "cell_type": "markdown",
   "metadata": {},
   "source": [
    "- Go to cell AN15.\n",
    "- Count the number of projects in the live games category.\n",
    "- Do the same for each of the other categories."
   ]
  },
  {
   "cell_type": "markdown",
   "metadata": {},
   "source": [
    "```\n",
    "# First go to AN15\n",
    "CTRL + G then AN15 \n",
    "# Second step to use function\n",
    "=COUNTIF($AE$2:$AE$153,\"live games\")\n",
    "```"
   ]
  },
  {
   "cell_type": "markdown",
   "metadata": {},
   "source": [
    "- Go to cell AN21.\n",
    "- Calculate the average pledged_usd for games:\n",
    "- Belonging to the tabletop games category\n",
    "- Whose status is successful"
   ]
  },
  {
   "cell_type": "markdown",
   "metadata": {},
   "source": [
    "```\n",
    "# First go to AN21\n",
    "CTRL + G then AN21 \n",
    "# Second step to use function\n",
    "=AVERAGEIFS(S2:S153,AH2:AH153,\"successful\",AE2:AE153,\"tabletop games\")\n",
    "```"
   ]
  }
 ],
 "metadata": {
  "language_info": {
   "name": "python"
  },
  "orig_nbformat": 4
 },
 "nbformat": 4,
 "nbformat_minor": 2
}
