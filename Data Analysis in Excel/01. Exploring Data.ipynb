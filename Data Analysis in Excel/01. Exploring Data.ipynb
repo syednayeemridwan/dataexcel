{
 "cells": [
  {
   "cell_type": "markdown",
   "metadata": {},
   "source": [
    "What can Excel do?\n",
    "\n",
    "- Store data\n",
    "- Calculations\n",
    "- Data analysis\n",
    "- Data visualizations"
   ]
  },
  {
   "cell_type": "markdown",
   "metadata": {},
   "source": [
    "- One excel file may have multiple sheets"
   ]
  },
  {
   "cell_type": "markdown",
   "metadata": {},
   "source": [
    "Shortcuts:\n",
    "- CMD/CTRL + Arrow Key\t= Move to the edge of the current data region\n",
    "- CMD/CTRL + F = Find a value\n",
    "- CMD/CTRL + G = Go to a specific cell"
   ]
  },
  {
   "cell_type": "markdown",
   "metadata": {},
   "source": [
    "- Go to cell F2.\n",
    "- Use EXACT() to see if the value in cells C2 and D2 are the same."
   ]
  },
  {
   "cell_type": "markdown",
   "metadata": {},
   "source": [
    "```\n",
    "# First step to go to F2\n",
    "CTRL + G then F2\n",
    "# Second step to use function\n",
    "=EXACT(C2,D2)\n",
    "```"
   ]
  },
  {
   "cell_type": "markdown",
   "metadata": {},
   "source": [
    "- Go to cell N2.\n",
    "- Use TRIM() to trim off the spaces in the country column."
   ]
  },
  {
   "cell_type": "markdown",
   "metadata": {},
   "source": [
    "```\n",
    "# First step to go to N2\n",
    "CTRL + G then N2\n",
    "# Second step to use function\n",
    "=TRIM(X1)\n",
    "```"
   ]
  },
  {
   "cell_type": "markdown",
   "metadata": {},
   "source": [
    "- Go to cell S2.\n",
    "- SORT() the pledged amounts of I column from lowest to highest."
   ]
  },
  {
   "cell_type": "markdown",
   "metadata": {},
   "source": [
    "```\n",
    "# First step to determine length of I\n",
    "CTRL + G then I1 to determine starting address and CTRL + Down Arrow to determine ending address \n",
    "# Second step to go to S2\n",
    "CTRL + G then S2\n",
    "# Third step to use function\n",
    "=SORT(I2:I153,1,1)\n",
    "```"
   ]
  },
  {
   "cell_type": "markdown",
   "metadata": {},
   "source": [
    "- Go to cell T2.\n",
    "- SORT() the data from highest to lowest.\n",
    "- FILTER() on projects that have raised over $100,000."
   ]
  },
  {
   "cell_type": "markdown",
   "metadata": {},
   "source": [
    "```\n",
    "# First step to determine length of S\n",
    "CTRL + G then S1 to determine starting address and CTRL + Down Arrow to determine ending address \n",
    "# Second step to go to S2\n",
    "CTRL + G then T2\n",
    "# Third step to use function\n",
    "=SORT(FILTER(S2:S153,S2:S153>100000),1,1)\n",
    "```"
   ]
  },
  {
   "cell_type": "markdown",
   "metadata": {},
   "source": [
    "Formatting can be recognised of types:\n",
    "- Left Aligned = Text\n",
    "- Right Aligned = Number\n",
    "- Center Aligned = Logical"
   ]
  },
  {
   "cell_type": "markdown",
   "metadata": {},
   "source": [
    "- Go to cell B2.\n",
    "- Use TEXT() to convert the id column to text."
   ]
  },
  {
   "cell_type": "markdown",
   "metadata": {},
   "source": [
    "```\n",
    "# First go to B2\n",
    "CTRL + G then B2 \n",
    "# Second step to use function\n",
    "= TEXT(A2, \"000000000\")\n",
    "```"
   ]
  },
  {
   "cell_type": "markdown",
   "metadata": {},
   "source": [
    "- Go to cell K2.\n",
    "- Use ROUND() to round the pledged amount to 0 decimal points."
   ]
  },
  {
   "cell_type": "markdown",
   "metadata": {},
   "source": [
    "```\n",
    "# First go to K2\n",
    "CTRL + G then K2 \n",
    "# Second step to use function\n",
    "= ROUND(J2,0)\n",
    "```"
   ]
  }
 ],
 "metadata": {
  "language_info": {
   "name": "python"
  },
  "orig_nbformat": 4
 },
 "nbformat": 4,
 "nbformat_minor": 2
}
