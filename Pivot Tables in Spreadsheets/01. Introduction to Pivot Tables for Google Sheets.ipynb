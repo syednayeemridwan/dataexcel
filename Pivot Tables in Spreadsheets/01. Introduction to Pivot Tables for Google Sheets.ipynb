{
 "cells": [
  {
   "cell_type": "markdown",
   "metadata": {},
   "source": [
    "- Click anywhere within the dataset.\n",
    "- Click on the Insert tab on the ribbon, and then select Pivot Table from the dropdown that appears."
   ]
  },
  {
   "cell_type": "markdown",
   "metadata": {},
   "source": [
    "```\n",
    "Select 1 Cell > Insert > Pivot Table > Create > New Sheet > 'Data Source'!A1:F11\n",
    "```"
   ]
  },
  {
   "cell_type": "markdown",
   "metadata": {},
   "source": [
    "- Select the entire dataset, from A1 through F11.\n",
    "- Then click on Insert on the ribbon, and choose Pivot Table."
   ]
  },
  {
   "cell_type": "markdown",
   "metadata": {},
   "source": [
    "```\n",
    "Select top-left Cell + Ctrl + Shift + Right, then  Ctrl + Shift + Down > Insert > Pivot Table > Create > New Sheet > 'Data Source'!A1:F11\n",
    "```"
   ]
  },
  {
   "cell_type": "markdown",
   "metadata": {},
   "source": [
    "- Click anywhere within the dataset, and create a pivot table.\n",
    "- Even though there is missing data, there aren't any completely empty rows or columns. So the pivot table should select the full range automatically."
   ]
  },
  {
   "cell_type": "markdown",
   "metadata": {},
   "source": [
    "```\n",
    "Select 1 Cell > Insert > Pivot Table > Create > New Sheet > 'Data Source'!A1:F11\n",
    "```"
   ]
  },
  {
   "cell_type": "markdown",
   "metadata": {},
   "source": [
    "- Select Add in the pivot table editor next to the Rows section, and choose Name; this will list the name of each company in the dataset.\n",
    "- Now click the X in the upper right section of the Name box in the pivot table editor, this will remove the names.\n",
    "- Now select Add and choose Headquarters, select Add again, and choose Industry."
   ]
  },
  {
   "cell_type": "markdown",
   "metadata": {},
   "source": [
    "```\n",
    "Create Pivot Table > Pivot Table Editor > Add Row > X to Remove Row> Add More Row (categories)\n",
    "```"
   ]
  },
  {
   "cell_type": "markdown",
   "metadata": {},
   "source": [
    "- Select Add in the pivot table editor next to the Columns section, and choose Industry; this will list each industry in the dataset.\n",
    "- Now click the X in the upper right section of the Industry box in the pivot table editor, this will remove the names.\n",
    "- Now select Add and choose Year, select Add again, and choose Headquarters."
   ]
  },
  {
   "cell_type": "markdown",
   "metadata": {},
   "source": [
    "```\n",
    "Create Pivot Table > Pivot Table Editor > Add Column > X to Remove Column> Add More Column (categories)\n",
    "```"
   ]
  },
  {
   "cell_type": "markdown",
   "metadata": {},
   "source": [
    "- Drag Industry into the Rows section, and place it above Name in the Pivot Table on the right."
   ]
  },
  {
   "cell_type": "markdown",
   "metadata": {},
   "source": [
    "```\n",
    "Create Pivot Table > Pivot Table Editor > Add Column > Drag to Row From Column (categories)\n",
    "```"
   ]
  },
  {
   "cell_type": "markdown",
   "metadata": {},
   "source": [
    "- Select Profit in the Values section.\n",
    "- To remove the the value, click the X in the top right corner of the Profit box.\n",
    "- Now select Revenue in the Values section."
   ]
  },
  {
   "cell_type": "markdown",
   "metadata": {},
   "source": [
    "```\n",
    "Create Pivot Table > Pivot Table Editor > Add Value > Select a Name (numeric column in source table)\n",
    "```"
   ]
  },
  {
   "cell_type": "markdown",
   "metadata": {},
   "source": [
    "- Select Profit in the Values section.\n",
    "- Then select Revenue in the Values section.\n",
    "- Now move Revenue above Profit."
   ]
  },
  {
   "cell_type": "markdown",
   "metadata": {},
   "source": [
    "```\n",
    "Create Pivot Table > Pivot Table Editor > Add Value (Profit) >  Add Value (Revenue) > Drag Revenue above Profit  [By default numeric values will be summed]\n",
    "```"
   ]
  },
  {
   "cell_type": "markdown",
   "metadata": {},
   "source": [
    "What are the primary selections you will need to make when building your pivot table?\n",
    "- Row Labels, Column Labels, and Values"
   ]
  }
 ],
 "metadata": {
  "language_info": {
   "name": "python"
  },
  "orig_nbformat": 4
 },
 "nbformat": 4,
 "nbformat_minor": 2
}
