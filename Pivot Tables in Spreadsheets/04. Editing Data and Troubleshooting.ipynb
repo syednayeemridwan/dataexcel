{
 "cells": [
  {
   "cell_type": "markdown",
   "metadata": {},
   "source": [
    "- When you correct data in source dataset, the pivot table is automatically updated"
   ]
  },
  {
   "cell_type": "markdown",
   "metadata": {},
   "source": [
    "- If you add new rows, make sure you entry the updated dataset range inside the pivot table as well"
   ]
  },
  {
   "cell_type": "markdown",
   "metadata": {},
   "source": [
    "- This pivot table has an error in the data. One of the entries in the Data Source has been listed as 2020 by mistake.\n",
    "- Which of the solutions below will correct the pivot table?\n",
    "  - Go to the Data Source tab, and modify cell A7 so that it reads 2017"
   ]
  },
  {
   "cell_type": "markdown",
   "metadata": {},
   "source": [
    "- This dataset has inconsistent labels. One of the countries was listed as \"United States\", instead of \"USA\". Let's fix it.\n",
    "  - Find the inconsistent entry of \"United States\"\n",
    "  - Change it to \"USA\" so that it will be consistent with the other entries"
   ]
  },
  {
   "cell_type": "markdown",
   "metadata": {},
   "source": [
    "- This pivot table has some data that is classified incorrectly. The pivot table shows a category for Automotive and another category for Automobiles. This is an error, as both categories should be combined into one.\n",
    "- Which of the solutions below will correct the pivot table?\n",
    "  - Go to the Data Source tab, and use Ctrl+F to find where Automobiles is listed. Change this cell to Automotive"
   ]
  },
  {
   "cell_type": "markdown",
   "metadata": {},
   "source": [
    "- This dataset has numbers that are formatted as text. This is illustrated by the fact that the SUM formula in cell D13 shows Zero.Change the numbers to the correct number format.\n",
    "  - Select Cells > Format as numbers"
   ]
  },
  {
   "cell_type": "markdown",
   "metadata": {},
   "source": [
    "- This pivot table is missing some data. Exxon Mobil is blank for 2015. Let's add this data to our pivot table.\n",
    "- Which of the solutions below will correct the pivot table?\n",
    "  - Go to the Data Source tab and find the missing data in row 34. Copy & Paste this data into row 31. Then go back to the Pivot Table Editor, and update the source to show 'Data Source'!A1:F31."
   ]
  },
  {
   "cell_type": "markdown",
   "metadata": {},
   "source": [
    "If you suspect that your dataset may have missing data, what is one possible way to check to see if this is the case?\n",
    "- Use the COUNTA formula in a row below your dataset, and see if all of the columns have the same number of entries"
   ]
  },
  {
   "cell_type": "markdown",
   "metadata": {},
   "source": [
    "One way to find the blank cell, is to use the COUNTA formula. That formula has been added to Column A already. You'll need to Copy & Paste this formula across all of the columns in order to identify which column is missing data.\n",
    "- Copy the COUNTA formula in cell A33, and Paste it across B33 through F33\n",
    "- Use this to find the column with the discrepancy. Once you locate the blank cell, you can fill it in with the correct value, which is 24.1."
   ]
  },
  {
   "cell_type": "markdown",
   "metadata": {},
   "source": [
    "The two primary types of fields in a dataset are Descriptions and Measurements. Which of the following are examples of Descriptions?\n",
    "- Location, Year, Category"
   ]
  },
  {
   "cell_type": "markdown",
   "metadata": {},
   "source": [
    "Pivot Tables may not always be the best solution. If you have a small dataset, which of the following may be a good alternative for you to consider?\n",
    "- Sorting, Filtering, Subtotaling"
   ]
  }
 ],
 "metadata": {
  "language_info": {
   "name": "python"
  },
  "orig_nbformat": 4
 },
 "nbformat": 4,
 "nbformat_minor": 2
}
