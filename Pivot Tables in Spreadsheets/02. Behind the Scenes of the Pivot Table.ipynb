{
 "cells": [
  {
   "cell_type": "markdown",
   "metadata": {},
   "source": [
    "- Each Selectable fields in Pivot Table corresponds to 1 Column Header in Source Table\n",
    "- Add Rows/Columns in Pivot Table shows all unique values from source table's Column values\n",
    "- When Multiple fields are selected, Pivot Table shows all unique combinations\n",
    "- When a value field is selected, Pivot table takes all the values of that column from source table and performs calculation on them. Default is SUM or COUNT "
   ]
  },
  {
   "cell_type": "markdown",
   "metadata": {},
   "source": [
    "Which answer best describes what a pivot table does?\n",
    "- It takes a dataset of any size, and allows you to build custom summaries of the data in an easy-to-manage table"
   ]
  },
  {
   "cell_type": "markdown",
   "metadata": {},
   "source": [
    "- Click on the Add button in the Filters section and select Month.\n",
    "- Once the Month box appears, you can then click the dropdown box that appears, and select an individual month. This time, select January."
   ]
  },
  {
   "cell_type": "markdown",
   "metadata": {},
   "source": [
    "```\n",
    "Create Pivot Table > Pivot Table Editor > Add Filter for a column header (Month) in original Table > January [This is like a where conditioning inside SQL]\n",
    "```"
   ]
  },
  {
   "cell_type": "markdown",
   "metadata": {},
   "source": [
    "- Click on the Add button in the Filters section and select City.\n",
    "- Once the City box appears, you will need to clear all of the selections, then select only the cities in California."
   ]
  },
  {
   "cell_type": "markdown",
   "metadata": {},
   "source": [
    "```\n",
    "Create Pivot Table > Pivot Table Editor > Add Filter for City > Clear All > Search \"Cali..\" > Select All\n",
    "```"
   ]
  },
  {
   "cell_type": "markdown",
   "metadata": {},
   "source": [
    "- In the Filters section, select the two highest and two lowest values."
   ]
  },
  {
   "cell_type": "markdown",
   "metadata": {},
   "source": [
    "```\n",
    "Filter DropDown > Clear All > Select first 2 > Select last 2\n",
    "```"
   ]
  },
  {
   "cell_type": "markdown",
   "metadata": {},
   "source": [
    "- In the Filters section, select Days and then filter it to only show values of 20 or higher."
   ]
  },
  {
   "cell_type": "markdown",
   "metadata": {},
   "source": [
    "```\n",
    "Filter DropDown > Clear All > Search 2 > Select All\n",
    "```"
   ]
  },
  {
   "cell_type": "markdown",
   "metadata": {},
   "source": [
    "- In the Rows section, select City and then select Month\n",
    "- In the Values section, select Millimetres"
   ]
  },
  {
   "cell_type": "markdown",
   "metadata": {},
   "source": [
    "```\n",
    "Create Pivot Table > Pivot Table Editor > Add Row (City, Month) >  Add Value (Millimetres) \n",
    "```"
   ]
  },
  {
   "cell_type": "markdown",
   "metadata": {},
   "source": [
    "- In the Rows section, select Days\n",
    "- In the Columns section, select Month\n",
    "- In the Values section, select City"
   ]
  },
  {
   "cell_type": "markdown",
   "metadata": {},
   "source": [
    "```\n",
    "Create Pivot Table > Pivot Table Editor > Add Row (Days) > Add Column (Month) >  Add Value (City) \n",
    "```"
   ]
  },
  {
   "cell_type": "markdown",
   "metadata": {},
   "source": [
    "- In the Rows section, select City\n",
    "- In the Values section, select Days and Inches\n",
    "- In the Filters section, select Month and then choose January"
   ]
  },
  {
   "cell_type": "markdown",
   "metadata": {},
   "source": [
    "```\n",
    "Create Pivot Table > Pivot Table Editor > Add Row (City) > Add Value (Days, Inches) >  Add Filter (Month) > Select only January \n",
    "```"
   ]
  }
 ],
 "metadata": {
  "language_info": {
   "name": "python"
  },
  "orig_nbformat": 4
 },
 "nbformat": 4,
 "nbformat_minor": 2
}
