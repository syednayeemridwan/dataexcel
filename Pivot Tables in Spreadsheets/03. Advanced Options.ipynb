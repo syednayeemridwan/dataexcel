{
 "cells": [
  {
   "cell_type": "markdown",
   "metadata": {},
   "source": [
    "- Add Release Year to the Rows section to list all of the years.\n",
    "- Add Title to the Values section, and select the proper counting method."
   ]
  },
  {
   "cell_type": "markdown",
   "metadata": {},
   "source": [
    "```\n",
    "Create Pivot Table > Pivot Table Editor > Add Row for a column header (Release Year) > Add Values for a column header (Title) > COUNTA\n",
    "```"
   ]
  },
  {
   "cell_type": "markdown",
   "metadata": {},
   "source": [
    "- Add Language to the Rows section to list all of the languages.\n",
    "- Add Gross to the Values section, and select the proper counting method. Several methods may work, but in this case we want to use the method that counts numerical values."
   ]
  },
  {
   "cell_type": "markdown",
   "metadata": {},
   "source": [
    "```\n",
    "Create Pivot Table > Pivot Table Editor > Add Row for a column header (Language) > Add Values for a column header (Gross) > COUNT\n",
    "```"
   ]
  },
  {
   "cell_type": "markdown",
   "metadata": {},
   "source": [
    "- Add Country to the Rows section to list all of the countries.\n",
    "- Add Budget to the Values section twice, and select the proper calculations. Make sure that the minimum value appears first, followed by the maximum value."
   ]
  },
  {
   "cell_type": "markdown",
   "metadata": {},
   "source": [
    "```\n",
    "Create Pivot Table > Pivot Table Editor > Add Row for a column header (Country) > Add Values for a column header (Budget) > MIN > Add Values for a column header (Budget) > MAX\n",
    "```"
   ]
  },
  {
   "cell_type": "markdown",
   "metadata": {},
   "source": [
    "- Add Release Year to the Rows section to list all of the years.\n",
    "- Add Gross to the Values section twice, and select the proper calculations."
   ]
  },
  {
   "cell_type": "markdown",
   "metadata": {},
   "source": [
    "```\n",
    "Create Pivot Table > Pivot Table Editor > Add Row for a column header (Release Year) > Add Values for a column header (Gross) > AVERAGE > Add Values for a column header (Gross) > MEDIAN\n",
    "```"
   ]
  },
  {
   "cell_type": "markdown",
   "metadata": {},
   "source": [
    "Which answer best describes what a Calculated Field does?\n",
    "- It allows you to add additional fields to your pivot table, by performing simple mathematical functions on the existing data"
   ]
  },
  {
   "cell_type": "markdown",
   "metadata": {},
   "source": [
    "- Create a Calculated Field that will calculate the Profit for each year; Gross minus Budget."
   ]
  },
  {
   "cell_type": "markdown",
   "metadata": {},
   "source": [
    "```\n",
    "Create Pivot Table > Pivot Table Editor > Add Values for a Calculater Field (=Gross-Budget)\n",
    "```"
   ]
  },
  {
   "cell_type": "markdown",
   "metadata": {},
   "source": [
    "- Create a Calculated Field that will calculate the Revised Budget for each film. The formula should be Budget/2"
   ]
  },
  {
   "cell_type": "markdown",
   "metadata": {},
   "source": [
    "```\n",
    "Create Pivot Table > Pivot Table Editor > Add Values for a Calculater Field (=Budget/2)\n",
    "```"
   ]
  },
  {
   "cell_type": "markdown",
   "metadata": {},
   "source": [
    "- Create a Calculated Field that will calculate the charitable contribution for each film. The formula should be Gross*1%"
   ]
  },
  {
   "cell_type": "markdown",
   "metadata": {},
   "source": [
    "```\n",
    "Create Pivot Table > Pivot Table Editor > Add Values for a Calculater Field (=Gross*1%)\n",
    "```"
   ]
  },
  {
   "cell_type": "markdown",
   "metadata": {},
   "source": [
    "- Add Gross to the Values section a second time, and modify it so that it shows the data as a percentage of the grand total. You may also need to change the number formatting afterwards, to show the values as percentages."
   ]
  },
  {
   "cell_type": "markdown",
   "metadata": {},
   "source": [
    "```\n",
    "Create Pivot Table > Pivot Table Editor > Add Values for Field (Gross) > Show as % of Grand Total > Format Result column as values as percentage\n",
    "```"
   ]
  },
  {
   "cell_type": "markdown",
   "metadata": {},
   "source": [
    "- Modify the options for Gross so that the data in the pivot table is shown as percentages for each year. (Each year should add up to 100%). You may need to change the number format to show the data as percentages."
   ]
  },
  {
   "cell_type": "markdown",
   "metadata": {},
   "source": [
    "```\n",
    "Create Pivot Table > Pivot Table Editor > Add Values for Field (Gross) > Show as % of Row > Format Result column as values as percentage\n",
    "```"
   ]
  },
  {
   "cell_type": "markdown",
   "metadata": {},
   "source": [
    "If you were to double-click on cell of pivot table what would happen?\n",
    "- A new tab would open which contains a sub-selection of the original dataset which corresponds to the number you double-clicked.  Double-clicking on the cell will Drill Down, allowing you to see more detail about the number that you selected"
   ]
  },
  {
   "cell_type": "markdown",
   "metadata": {},
   "source": [
    "- Create a Group Rule using an interval of 50,000,000. You can leave the Min and Max at their default settings.\n",
    "- This is one option that is not found in the pivot table editor; instead, you'll need to right-click somewhere."
   ]
  },
  {
   "cell_type": "markdown",
   "metadata": {},
   "source": [
    "```\n",
    "Create Pivot Table > Pivot Table Editor > Right Click on a column > Create Piot Group Rule > Interval Size > 50000000\n",
    "```"
   ]
  },
  {
   "cell_type": "markdown",
   "metadata": {},
   "source": []
  }
 ],
 "metadata": {
  "language_info": {
   "name": "python"
  },
  "orig_nbformat": 4
 },
 "nbformat": 4,
 "nbformat_minor": 2
}
